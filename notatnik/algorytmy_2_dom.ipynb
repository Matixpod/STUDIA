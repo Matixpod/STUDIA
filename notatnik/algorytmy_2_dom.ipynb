{
 "cells": [
  {
   "cell_type": "code",
   "execution_count": 42,
   "source": [
    "def zadanie1(arr):\n",
    "    max_num = arr[0]\n",
    "    for num in arr:\n",
    "        if num > max_num:\n",
    "            max_num = num\n",
    "    return max_num\n",
    "\n",
    "print(zadanie1([random.randrange(100) for _ in range(10)]))\n",
    "# Złożoność obliczeniowa tego algorytmu to O(n) ponieważ długość wykonywania funkcji zależy od długości wprowadzonej listy"
   ],
   "outputs": [
    {
     "output_type": "stream",
     "name": "stdout",
     "text": [
      "91\n"
     ]
    }
   ],
   "metadata": {}
  },
  {
   "cell_type": "code",
   "execution_count": 43,
   "source": [
    "def zadanie2(arr):\n",
    "    for i in range(1,len(arr)):\n",
    "        x = 0\n",
    "        while arr[i-1-x] > arr[i - x] and i - x != 0:\n",
    "            arr[i-1-x],arr[i-x] = arr[i-x],arr[i-x-1]\n",
    "            x+=1\n",
    "    return arr\n",
    "\n",
    "print(zadanie2([random.randrange(100) for _ in range(10)]))\n",
    "# Złożoność obliczeniowa tego algorytmu to O(n^2) ponieważ mamy pętle zagnieżdżoną w pętli co oznacza że pętle sie wykonają w najgorszym przypadku w liczbie dlugości funkcji do kwadratu"
   ],
   "outputs": [
    {
     "output_type": "stream",
     "name": "stdout",
     "text": [
      "[21, 29, 42, 49, 57, 57, 80, 82, 89, 93]\n"
     ]
    }
   ],
   "metadata": {}
  },
  {
   "cell_type": "code",
   "execution_count": 44,
   "source": [
    "def zadanie3(s1,s2):\n",
    "    counter = 0\n",
    "    for letter1 in s2:\n",
    "        for letter2 in s1:\n",
    "            if letter1 == letter2:\n",
    "                counter += 1\n",
    "    print(counter)\n",
    "\n",
    "zadanie3('ala ma kota', 'aoiuye')\n",
    "# Złożoność obliczeniowa tego algorytmu to O(n*m) ponieważ mamy 2 pętle o różnych długościach które są zagnieżdżone w sobie co oznacza że w najgorszym przypadku petla wykona sie w dlugość 1 ciagu znaków * 2 ciągu znaków"
   ],
   "outputs": [
    {
     "output_type": "stream",
     "name": "stdout",
     "text": [
      "5\n"
     ]
    }
   ],
   "metadata": {}
  },
  {
   "cell_type": "code",
   "execution_count": 45,
   "source": [
    "def zadanie4(arr):\n",
    "    n = len(arr)\n",
    "    mid = n // 2\n",
    "    if n % 2 == 0:\n",
    "        return (arr[mid - 1] + arr[mid]) / 2\n",
    "    else:\n",
    "        return arr[mid]\n",
    "\n",
    "print(zadanie4([1,2,3,4,5,6,7,8,9,10]))\n",
    "# Złożoność tego algorytmu to O(1) ponieważ funkcja zawsze sprawdza tylko 2 środkowe elementy listy"
   ],
   "outputs": [
    {
     "output_type": "stream",
     "name": "stdout",
     "text": [
      "5.5\n"
     ]
    }
   ],
   "metadata": {}
  }
 ],
 "nbformat": 4,
 "nbformat_minor": 2,
 "metadata": {
  "language_info": {
   "codemirror_mode": {
    "name": "ipython",
    "version": 3
   },
   "file_extension": ".py",
   "mimetype": "text/x-python",
   "name": "python",
   "nbconvert_exporter": "python",
   "pygments_lexer": "ipython3",
   "version": 3
  }
 }
}
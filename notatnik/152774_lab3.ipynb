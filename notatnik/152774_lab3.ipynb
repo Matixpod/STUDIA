{
 "cells": [
  {
   "cell_type": "code",
   "execution_count": 51,
   "source": [
    "def zadanie1():\n",
    "    arr = [random.randrange(11) for i in range(51)]\n",
    "    dict = collections.Counter(arr)    \n",
    "    return dict.most_common(5)\n",
    "\n",
    "print(zadanie1())"
   ],
   "outputs": [
    {
     "output_type": "stream",
     "name": "stdout",
     "text": [
      "[(0, 8), (10, 7), (9, 6), (3, 5), (4, 5)]\n"
     ]
    }
   ],
   "metadata": {}
  },
  {
   "cell_type": "code",
   "execution_count": 52,
   "source": [
    "def zadanie2(text):\n",
    "    error = itertools.permutations(text,2)\n",
    "    test2 = itertools.combinations(text,2)\n",
    "    print(f\"Napis pobrany od użytkownika: {text}\")\n",
    "    print(\"Permutacje:\", \" \". join(i[0]+i[1] for i in list(error)))\n",
    "    print(\"Kombinacje:\", \" \". join(i[0]+i[1] for i in list(test2)))\n",
    "\n",
    "\n",
    "zadanie2(\"ABCD\")"
   ],
   "outputs": [
    {
     "output_type": "stream",
     "name": "stdout",
     "text": [
      "Napis pobrany od użytkownika: ABCD\n",
      "Permutacje: AB AC AD BA BC BD CA CB CD DA DB DC\n",
      "Kombinacje: AB AC AD BC BD CD\n"
     ]
    }
   ],
   "metadata": {}
  },
  {
   "cell_type": "code",
   "execution_count": 53,
   "source": [
    "def zadanie3(a,b):\n",
    "    arr = []\n",
    "    sum = 0\n",
    "\n",
    "    try:\n",
    "        for i in range(len(a)):\n",
    "            for i,val in enumerate(a[i]):\n",
    "                sum += val * b[i]\n",
    "            arr.append(sum)\n",
    "            sum = 0\n",
    "        return arr\n",
    "    except TypeError as error:\n",
    "        return \"Błąd typu danych, podana macierz zamiast wektora:\\n\", error\n",
    "\n",
    "\n",
    "zadanie3([[1, 2, 3],[4, 5, 6],[7, 8, 9]],[6, 4, 2])\n",
    "\n",
    "\n",
    "\n",
    "# def zadanie4():"
   ],
   "outputs": [
    {
     "output_type": "execute_result",
     "data": {
      "text/plain": [
       "[20, 56, 92]"
      ]
     },
     "metadata": {},
     "execution_count": 53
    }
   ],
   "metadata": {}
  },
  {
   "cell_type": "code",
   "execution_count": 54,
   "source": [
    "def zadanie5(a,b,c):\n",
    "    delta = b**2 - 4 * a * c\n",
    "\n",
    "    try:\n",
    "        x1 = (-b - math.sqrt(delta)) / (2*a)\n",
    "        x2 = (-b + math.sqrt(delta)) / (2*a)\n",
    "        if x1 != x2:\n",
    "            return f\"Podane liczby: a = {a}, b = {b}, c = {c} \\nx1 = {x1} \\nx2 = {x2}\\n\"\n",
    "        else:\n",
    "            return f\"Podane liczby: a = {a}, b = {b}, c = {c} \\nx1 = {x1}\\n\"\n",
    "    except ValueError:\n",
    "        return f\"Podane liczby: a = {a}, b = {b}, c = {c} \\nDelta mniejsza od zera brak rozwiązań\\n\"\n",
    "\n",
    "# zadanie5(4,4,1)\n",
    "\n",
    "def zadanie5b():\n",
    "    check = True\n",
    "    arr = []\n",
    "    while len(arr) < 3:\n",
    "        data = input(\"Podaj wartosci po spacjach lub w osobnych wierszach: \").split()\n",
    "        if data == []:\n",
    "            check = False\n",
    "            break\n",
    "        for i in data:\n",
    "            arr.append(int(i))\n",
    "\n",
    "    if check == True:\n",
    "        print(zadanie5(arr[0],arr[1],arr[2]))\n",
    "        zadanie5b()\n",
    "\n",
    "\n",
    "zadanie5b()"
   ],
   "outputs": [
    {
     "output_type": "stream",
     "name": "stdout",
     "text": [
      "Podane liczby: a = 1, b = 1, c = -1 \n",
      "x1 = -1.618033988749895 \n",
      "x2 = 0.6180339887498949\n",
      "\n",
      "Podane liczby: a = 4, b = 3, c = 1 \n",
      "Delta mniejsza od zera brak rozwiązań\n",
      "\n",
      "Podane liczby: a = 1, b = 23, c = 3 \n",
      "x1 = -22.868817000902073 \n",
      "x2 = -0.13118299909792697\n",
      "\n"
     ]
    }
   ],
   "metadata": {}
  },
  {
   "cell_type": "code",
   "execution_count": 55,
   "source": [
    "def zadanie6(n):\n",
    "    arr = arr = list(range(2, n))\n",
    "    for i,val in enumerate(arr):\n",
    "        if val != 0:\n",
    "            for j in range(i+1,n-2):\n",
    "                if arr[j] % val == 0:\n",
    "                    arr[j] = 0\n",
    "    arr = [i for i in arr if i != 0 ]\n",
    "    return arr\n",
    "                \n",
    "        \n",
    "# print(zadanie6(100))\n",
    "\n",
    "\n",
    "def zadanie6b():\n",
    "    with open('G:/Users/mateu/Pulpit/Github/STUDIA/pliki_do_zadan/prime_numbers.txt','w') as file:\n",
    "        arr = zadanie6(100) \n",
    "        counter = 0\n",
    "        for number in arr:\n",
    "            if counter == 5:\n",
    "                file.write(f\"\\n{str(number)} \")\n",
    "                counter = 1\n",
    "            else:\n",
    "                file.write(f\"{str(number)} \")\n",
    "                counter += 1\n",
    "\n",
    "\n",
    "zadanie6b()"
   ],
   "outputs": [],
   "metadata": {}
  },
  {
   "cell_type": "code",
   "execution_count": 56,
   "source": [
    "def zadanie7(n):\n",
    "    i = 0\n",
    "    a,b = 0,1\n",
    "    while i < n:\n",
    "        yield a\n",
    "        a,b = b, a + b\n",
    "        i += 1\n",
    "\n",
    "print(list(zadanie7(12)))"
   ],
   "outputs": [
    {
     "output_type": "stream",
     "name": "stdout",
     "text": [
      "[0, 1, 1, 2, 3, 5, 8, 13, 21, 34, 55, 89]\n"
     ]
    }
   ],
   "metadata": {}
  }
 ],
 "nbformat": 4,
 "nbformat_minor": 2,
 "metadata": {
  "language_info": {
   "codemirror_mode": {
    "name": "ipython",
    "version": 3
   },
   "file_extension": ".py",
   "mimetype": "text/x-python",
   "name": "python",
   "nbconvert_exporter": "python",
   "pygments_lexer": "ipython3",
   "version": 3
  }
 }
}
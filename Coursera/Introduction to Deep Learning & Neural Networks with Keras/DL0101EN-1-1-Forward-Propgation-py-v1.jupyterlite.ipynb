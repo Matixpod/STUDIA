{
 "cells": [
  {
   "cell_type": "markdown",
   "id": "2cb5ea30-2c91-47c3-9f77-78aa92b4b5bf",
   "metadata": {},
   "source": [
    "<a href=\"https://cognitiveclass.ai\"><img src=\"https://cf-courses-data.s3.us.cloud-object-storage.appdomain.cloud/IBMDeveloperSkillsNetwork-DL0101EN-SkillsNetwork/images/IDSN-logo.png\" width=\"400\"> </a>\n",
    "\n",
    "# Artificial Neural Networks - Forward Propagation\n",
    "\n",
    "Estimated time needed: **30** mins\n"
   ]
  },
  {
   "cell_type": "markdown",
   "id": "fe914609-acf6-42aa-a3d8-19cd1e57177d",
   "metadata": {},
   "source": [
    "## Introduction\n"
   ]
  },
  {
   "cell_type": "markdown",
   "id": "a39f3235-1228-46eb-a7e2-55601e4091e9",
   "metadata": {},
   "source": [
    "In this lab, we will build a neural network from scratch and code how it performs predictions using forward propagation. Please note that all deep learning libraries have the entire training and prediction processes implemented, so in practice, you wouldn't need to build a neural network from scratch. However, completing this lab will help you better understand neural networks and how they work.\n"
   ]
  },
  {
   "cell_type": "markdown",
   "id": "2ca42195-c822-4005-a10a-5f42243b60e4",
   "metadata": {},
   "source": [
    "## Objective for this Notebook    \n",
    "* Build a Neural Network\n",
    "* Compute Weighted Sum at Each Node\n",
    "* Compute Node Activation\n",
    "* Use Forward Propagation to Propagate Data\n",
    "\n"
   ]
  },
  {
   "cell_type": "markdown",
   "id": "a2430161-2cba-460f-ae9c-ecd6f9d22525",
   "metadata": {},
   "source": [
    "# Recap\n"
   ]
  },
  {
   "cell_type": "markdown",
   "id": "17cc4d8e-98de-484b-89b4-9fb4e5aa6645",
   "metadata": {},
   "source": [
    "From the videos, let's recap how a neural network makes predictions through the forward propagation process. Here is a neural network that takes two inputs, has one hidden layer with two nodes, and an output layer with one node.\n"
   ]
  },
  {
   "cell_type": "markdown",
   "id": "6346bdd6-3835-458e-965c-60ef76596ba8",
   "metadata": {},
   "source": [
    "   \n"
   ]
  },
  {
   "cell_type": "markdown",
   "id": "1e5fdb76-6972-4a56-805a-e3abd8cdbc68",
   "metadata": {},
   "source": [
    "<img src=\"http://cocl.us/neural_network_example\" alt=\"Neural Network Example\" width=\"600px\">\n"
   ]
  },
  {
   "cell_type": "markdown",
   "id": "1a911e29-b33d-4bdd-b31c-e976e035a80d",
   "metadata": {},
   "source": [
    "  \n"
   ]
  },
  {
   "cell_type": "markdown",
   "id": "20a98b52-8470-49ae-87a9-38e84e707891",
   "metadata": {},
   "source": [
    "Let's start by randomly initializing the weights and the biases in the network. We have 6 weights and 3 biases, one for each node in the hidden layer as well as for each node in the output layer.\n"
   ]
  },
  {
   "cell_type": "code",
   "execution_count": 1,
   "id": "af103995-d63f-4f86-9f34-25832185d094",
   "metadata": {},
   "outputs": [],
   "source": [
    "# All Libraries required for this lab are listed below. The libraries pre-installed on Skills Network Labs are commented. \n",
    "# If you run this notebook on a different environment, e.g., your desktop, you may need to uncomment and install certain libraries.\n",
    "\n",
    "#!pip install numpy==1.26.4"
   ]
  },
  {
   "cell_type": "code",
   "execution_count": 2,
   "id": "5c8cfaac-9a2d-42a5-9576-72c522419a8d",
   "metadata": {},
   "outputs": [],
   "source": [
    "import numpy as np # import Numpy library to generate \n",
    "\n",
    "weights = np.around(np.random.uniform(size=6), decimals=2) # initialize the weights\n",
    "biases = np.around(np.random.uniform(size=3), decimals=2) # initialize the biases"
   ]
  },
  {
   "cell_type": "markdown",
   "id": "d8d7be7a-963c-4c06-8617-96b870c8af80",
   "metadata": {},
   "source": [
    "Let's print the weights and biases for sanity check.\n"
   ]
  },
  {
   "cell_type": "code",
   "execution_count": 3,
   "id": "58cd90c8-e4af-4829-a71b-b184edd44ad0",
   "metadata": {},
   "outputs": [
    {
     "name": "stdout",
     "output_type": "stream",
     "text": [
      "[0.38 0.68 0.72 0.99 0.23 0.06]\n",
      "[0.39 0.36 0.87]\n"
     ]
    }
   ],
   "source": [
    "print(weights)\n",
    "print(biases)"
   ]
  },
  {
   "cell_type": "markdown",
   "id": "b3fc526d-516c-47da-8458-a4f75224955f",
   "metadata": {},
   "source": [
    "Now that we have the weights and the biases defined for the network, let's compute the output for a given input, $x_1$ and $x_2$.\n"
   ]
  },
  {
   "cell_type": "code",
   "execution_count": 84,
   "id": "402ba9fa-04ce-4c36-ae7f-04cfe8855be5",
   "metadata": {},
   "outputs": [
    {
     "name": "stdout",
     "output_type": "stream",
     "text": [
      "x1 is 0.5 and x2 is -0.35\n"
     ]
    }
   ],
   "source": [
    "x_1 = 0.5 # input 1\n",
    "x_2 = -0.35 # input 2\n",
    "\n",
    "print('x1 is {} and x2 is {}'.format(x_1, x_2))"
   ]
  },
  {
   "cell_type": "markdown",
   "id": "7b96b67f-05c6-4791-8530-e7b0e73057e1",
   "metadata": {},
   "source": [
    "Let's start by computing the weighted sum of the inputs, $z_{1, 1}$, at the first node of the hidden layer.\n"
   ]
  },
  {
   "cell_type": "code",
   "execution_count": 87,
   "id": "b39842b6-2700-4abe-b1bb-ad59caf3ac82",
   "metadata": {},
   "outputs": [
    {
     "name": "stdout",
     "output_type": "stream",
     "text": [
      "The weighted sum of the inputs at the first node in the hidden layer is 0.342\n"
     ]
    }
   ],
   "source": [
    "z_11 = x_1 * weights[0] + x_2 * weights[1] + biases[0]\n",
    "\n",
    "print('The weighted sum of the inputs at the first node in the hidden layer is {}'.format(z_11))"
   ]
  },
  {
   "cell_type": "markdown",
   "id": "703b07da-8f4b-405e-b621-c1b71ef02af9",
   "metadata": {},
   "source": [
    "Next, let's compute the weighted sum of the inputs, $z_{1, 2}$, at the second node of the hidden layer. Assign the value to **z_12**.\n"
   ]
  },
  {
   "cell_type": "code",
   "execution_count": 6,
   "id": "5a086bce-340d-4b46-8e9d-52af70d67a76",
   "metadata": {},
   "outputs": [
    {
     "name": "stdout",
     "output_type": "stream",
     "text": [
      "The weighted sum of the inputs at the second node in the hidden layer is 1.5615\n"
     ]
    }
   ],
   "source": [
    "z_12 = x_1 * weights[2] + x_2 * weights[3] + biases[1]\n",
    "print('The weighted sum of the inputs at the second node in the hidden layer is {}'.format(z_12)) \n",
    "\n"
   ]
  },
  {
   "cell_type": "markdown",
   "id": "47a67a49-ea11-4883-a260-45efb225a576",
   "metadata": {},
   "source": [
    "Double-click __here__ for the solution.\n",
    "<!-- The correct answer is:\n",
    "z_12 = x_1 * weights[2] + x_2 * weights[3] + biases[1]\n",
    "-->\n"
   ]
  },
  {
   "cell_type": "markdown",
   "id": "3afcc390-2e0d-488b-a875-7f46fed4510d",
   "metadata": {},
   "source": [
    "Print the weighted sum.\n"
   ]
  },
  {
   "cell_type": "code",
   "execution_count": 7,
   "id": "0a9d281a-0c66-48d5-add6-1fcaa5f148de",
   "metadata": {},
   "outputs": [
    {
     "name": "stdout",
     "output_type": "stream",
     "text": [
      "The weighted sum of the inputs at the second node in the hidden layer is 1.5615\n"
     ]
    }
   ],
   "source": [
    "print('The weighted sum of the inputs at the second node in the hidden layer is {}'.format(np.around(z_12, decimals=4)))"
   ]
  },
  {
   "cell_type": "markdown",
   "id": "bf5bd866-16b0-43f1-934a-685fde81d5e0",
   "metadata": {},
   "source": [
    "Next, assuming a sigmoid activation function, let's compute the activation of the first node, $a_{1, 1}$, in the hidden layer.\n"
   ]
  },
  {
   "cell_type": "code",
   "execution_count": 8,
   "id": "58c14b6f-6050-4be2-b05d-5fd27c9d73c9",
   "metadata": {},
   "outputs": [
    {
     "name": "stdout",
     "output_type": "stream",
     "text": [
      "The activation of the first node in the hidden layer is 0.761\n"
     ]
    }
   ],
   "source": [
    "a_11 = 1.0 / (1.0 + np.exp(-z_11))\n",
    "\n",
    "print('The activation of the first node in the hidden layer is {}'.format(np.around(a_11, decimals=4)))"
   ]
  },
  {
   "cell_type": "markdown",
   "id": "20ee4b6b-6721-42ca-8479-106b4047e86e",
   "metadata": {},
   "source": [
    "Let's also compute the activation of the second node, $a_{1, 2}$, in the hidden layer. Assign the value to **a_12**.\n"
   ]
  },
  {
   "cell_type": "code",
   "execution_count": null,
   "id": "1003e172-6047-4861-bc30-5ba4dfe7596b",
   "metadata": {},
   "outputs": [
    {
     "name": "stdout",
     "output_type": "stream",
     "text": [
      "0.566601842151274\n",
      "The activation of the second node in the hidden layer is 0.8266\n"
     ]
    }
   ],
   "source": [
    "a_12 = 1.0 / (1.0 + np.exp(-z_12))\n",
    "\n",
    "\n",
    "print('The activation of the second node in the hidden layer is {}'.format(np.around(a_12, decimals=4)))"
   ]
  },
  {
   "cell_type": "markdown",
   "id": "df735151-7a79-43ba-b87a-abb8c46c463b",
   "metadata": {},
   "source": [
    "Double-click __here__ for the solution.\n",
    "<!-- The correct answer is:\n",
    "a_12 = 1.0 / (1.0 + np.exp(-z_12))\n",
    "-->\n"
   ]
  },
  {
   "cell_type": "markdown",
   "id": "584226c8-69af-46f2-8fbc-c4cc8df5ef9b",
   "metadata": {},
   "source": [
    "Print the activation of the second node.\n"
   ]
  },
  {
   "cell_type": "code",
   "execution_count": 10,
   "id": "86cad5ad-ce50-4b29-846d-29ea040cf7e9",
   "metadata": {},
   "outputs": [
    {
     "name": "stdout",
     "output_type": "stream",
     "text": [
      "The activation of the second node in the hidden layer is 0.8266\n"
     ]
    }
   ],
   "source": [
    "print('The activation of the second node in the hidden layer is {}'.format(np.around(a_12, decimals=4)))"
   ]
  },
  {
   "cell_type": "markdown",
   "id": "c92163a5-fa7b-49b2-b440-8eff47a814fc",
   "metadata": {},
   "source": [
    "Now these activations will serve as the inputs to the output layer. So, let's compute the weighted sum of these inputs to the node in the output layer. Assign the value to **z_2**.\n"
   ]
  },
  {
   "cell_type": "code",
   "execution_count": 11,
   "id": "51e57ec5-9f8f-4c1d-8c42-0051e7e8c530",
   "metadata": {},
   "outputs": [],
   "source": [
    "### type your answer here\n",
    "z_2 = a_11 * weights[4] + a_12 * weights[5] + biases[2] # weighted sum of the inputs at the output layer\n"
   ]
  },
  {
   "cell_type": "markdown",
   "id": "a680313a-6c6e-4bba-9f2b-0c265a797ee2",
   "metadata": {},
   "source": [
    "Double-click __here__ for the solution.\n",
    "<!-- The correct answer is:\n",
    "z_2 = a_11 * weights[4] + a_12 * weights[5] + biases[2]\n",
    "-->\n"
   ]
  },
  {
   "cell_type": "markdown",
   "id": "dd880a90-dfb8-415d-9fa1-33999f0dbb70",
   "metadata": {},
   "source": [
    "Print the weighted sum of the inputs at the node in the output layer.\n"
   ]
  },
  {
   "cell_type": "code",
   "execution_count": 12,
   "id": "3d8b44e7-5f43-4394-973e-0bf06f3bbe14",
   "metadata": {},
   "outputs": [
    {
     "name": "stdout",
     "output_type": "stream",
     "text": [
      "The weighted sum of the inputs at the node in the output layer is 1.0946\n"
     ]
    }
   ],
   "source": [
    "print('The weighted sum of the inputs at the node in the output layer is {}'.format(np.around(z_2, decimals=4)))"
   ]
  },
  {
   "cell_type": "markdown",
   "id": "c8d8aaa1-20f2-4a25-add3-2e7672723115",
   "metadata": {},
   "source": [
    "Finally, let's compute the output of the network as the activation of the node in the output layer. Assign the value to **a_2**.\n"
   ]
  },
  {
   "cell_type": "code",
   "execution_count": 13,
   "id": "ea8b9df4-575f-4d8d-9cd4-05d7dc101be4",
   "metadata": {},
   "outputs": [],
   "source": [
    "a_2 = 1.0 / (1.0 + np.exp(-z_2))"
   ]
  },
  {
   "cell_type": "markdown",
   "id": "99d4f615-a3f0-495f-bd11-40d432913698",
   "metadata": {},
   "source": [
    "Double-click __here__ for the solution.\n",
    "<!-- The correct answer is:\n",
    "a_2 = 1.0 / (1.0 + np.exp(-z_2))\n",
    "-->\n"
   ]
  },
  {
   "cell_type": "markdown",
   "id": "06e42439-7d33-4524-b0a8-4985603b5cd5",
   "metadata": {},
   "source": [
    "Print the activation of the node in the output layer which is equivalent to the prediction made by the network.\n"
   ]
  },
  {
   "cell_type": "code",
   "execution_count": 14,
   "id": "25760200-8dd5-45a7-9b14-bdd70acaacef",
   "metadata": {},
   "outputs": [
    {
     "name": "stdout",
     "output_type": "stream",
     "text": [
      "The output of the network for x1 = 0.5 and x2 = 0.85 is 0.7493\n"
     ]
    }
   ],
   "source": [
    "print('The output of the network for x1 = 0.5 and x2 = 0.85 is {}'.format(np.around(a_2, decimals=4)))"
   ]
  },
  {
   "cell_type": "markdown",
   "id": "3baf1819-19f6-46ee-bd8a-d0ff50a4e19b",
   "metadata": {},
   "source": [
    "<hr>\n"
   ]
  },
  {
   "cell_type": "markdown",
   "id": "6f3b86ae-db48-4053-9a54-574416394d95",
   "metadata": {},
   "source": [
    "Obviously, neural networks for real problems are composed of many hidden layers and many more nodes in each layer. So, we can't continue making predictions using this very inefficient approach of computing the weighted sum at each node and the activation of each node manually. \n"
   ]
  },
  {
   "cell_type": "markdown",
   "id": "bc97aca9-c65f-4276-aa25-82e45c7f50e7",
   "metadata": {},
   "source": [
    "In order to code an automatic way of making predictions, let's generalize our network. A general network would take $n$ inputs, would have many hidden layers, each hidden layer having $m$ nodes, and would have an output layer. Although the network is showing one hidden layer, but we will code the network to have many hidden layers. Similarly, although the network shows an output layer with one node, we will code the network to have more than one node in the output layer.\n"
   ]
  },
  {
   "cell_type": "markdown",
   "id": "a1edb973-c4af-4863-acd4-b3c11154b209",
   "metadata": {},
   "source": [
    "<img src=\"http://cocl.us/general_neural_network\" alt=\"Neural Network General\" width=\"600px\">\n"
   ]
  },
  {
   "cell_type": "markdown",
   "id": "047df5f6-700b-4709-a843-30e750f1c3e6",
   "metadata": {},
   "source": [
    "<a id='item12'></a>\n"
   ]
  },
  {
   "cell_type": "markdown",
   "id": "eea4d64b-dae7-4551-9fbb-74bf526129f5",
   "metadata": {},
   "source": [
    "## Build a Neural Network\n"
   ]
  },
  {
   "cell_type": "markdown",
   "id": "f8b95a8d-e9b0-4944-8cd4-12e32d038a66",
   "metadata": {},
   "source": [
    "Let's start by formally defining the structure of the network.\n"
   ]
  },
  {
   "cell_type": "code",
   "execution_count": 15,
   "id": "b3a99d01-f547-43c8-ac8c-57027903239d",
   "metadata": {},
   "outputs": [],
   "source": [
    "n = 2 # number of inputs\n",
    "num_hidden_layers = 2 # number of hidden layers\n",
    "m = [2, 2] # number of nodes in each hidden layer\n",
    "num_nodes_output = 1 # number of nodes in the output layer"
   ]
  },
  {
   "cell_type": "markdown",
   "id": "93e97407-672c-4eeb-b6e3-329fb176be84",
   "metadata": {},
   "source": [
    "Now that we defined the structure of the network, let's go ahead and inititailize the weights and the biases in the network to random numbers. In order to be able to initialize the weights and the biases to random numbers, we will need to import the **Numpy** library.\n"
   ]
  },
  {
   "cell_type": "code",
   "execution_count": 16,
   "id": "a85556b7-47c2-4a92-8334-1d3058ed7f3a",
   "metadata": {},
   "outputs": [
    {
     "name": "stdout",
     "output_type": "stream",
     "text": [
      "{'layer_1': {'node_1': {'weights': array([0.54, 0.53]), 'bias': array([0.72])}, 'node_2': {'weights': array([0.89, 0.42]), 'bias': array([0.52])}}, 'layer_2': {'node_1': {'weights': array([0.49, 0.5 ]), 'bias': array([0.44])}, 'node_2': {'weights': array([0.67, 0.27]), 'bias': array([0.33])}}, 'output': {'node_1': {'weights': array([0.09, 0.6 ]), 'bias': array([0.79])}}}\n"
     ]
    }
   ],
   "source": [
    "import numpy as np # import the Numpy library\n",
    "\n",
    "num_nodes_previous = n # number of nodes in the previous layer\n",
    "\n",
    "network = {} # initialize network an an empty dictionary\n",
    "\n",
    "# loop through each layer and randomly initialize the weights and biases associated with each node\n",
    "# notice how we are adding 1 to the number of hidden layers in order to include the output layer\n",
    "for layer in range(num_hidden_layers + 1): \n",
    "    \n",
    "    # determine name of layer\n",
    "    if layer == num_hidden_layers:\n",
    "        layer_name = 'output'\n",
    "        num_nodes = num_nodes_output\n",
    "    else:\n",
    "        layer_name = 'layer_{}'.format(layer + 1)\n",
    "        num_nodes = m[layer]\n",
    "    \n",
    "    # initialize weights and biases associated with each node in the current layer\n",
    "    network[layer_name] = {}\n",
    "    for node in range(num_nodes):\n",
    "        node_name = 'node_{}'.format(node+1)\n",
    "        network[layer_name][node_name] = {\n",
    "            'weights': np.around(np.random.uniform(size=num_nodes_previous), decimals=2),\n",
    "            'bias': np.around(np.random.uniform(size=1), decimals=2),\n",
    "        }\n",
    "    \n",
    "    num_nodes_previous = num_nodes\n",
    "    \n",
    "print(network) # print network"
   ]
  },
  {
   "cell_type": "markdown",
   "id": "bbdbe7d5-46ab-4348-85c4-f5e159c0583e",
   "metadata": {},
   "source": [
    "Awesome! So now with the above code, we are able to initialize the weights and the biases pertaining to any network of any number of hidden layers and number of nodes in each layer. But let's put this code in a function so that we are able to repetitively execute all this code whenever we want to construct a neural network.\n"
   ]
  },
  {
   "cell_type": "code",
   "execution_count": 17,
   "id": "6404032a-d18c-4d2a-8415-9e8dd7d6e913",
   "metadata": {},
   "outputs": [],
   "source": [
    "def initialize_network(num_inputs, num_hidden_layers, num_nodes_hidden, num_nodes_output):\n",
    "    \n",
    "    num_nodes_previous = num_inputs # number of nodes in the previous layer\n",
    "\n",
    "    network = {}\n",
    "    \n",
    "    # loop through each layer and randomly initialize the weights and biases associated with each layer\n",
    "    for layer in range(num_hidden_layers + 1):\n",
    "        \n",
    "        if layer == num_hidden_layers:\n",
    "            layer_name = 'output' # name last layer in the network output\n",
    "            num_nodes = num_nodes_output\n",
    "        else:\n",
    "            layer_name = 'layer_{}'.format(layer + 1) # otherwise give the layer a number\n",
    "            num_nodes = num_nodes_hidden[layer] \n",
    "        \n",
    "        # initialize weights and bias for each node\n",
    "        network[layer_name] = {}\n",
    "        for node in range(num_nodes):\n",
    "            node_name = 'node_{}'.format(node+1)\n",
    "            network[layer_name][node_name] = {\n",
    "                'weights': np.around(np.random.uniform(size=num_nodes_previous), decimals=2),\n",
    "                'bias': np.around(np.random.uniform(size=1), decimals=2),\n",
    "            }\n",
    "    \n",
    "        num_nodes_previous = num_nodes\n",
    "\n",
    "    return network # return the network"
   ]
  },
  {
   "cell_type": "markdown",
   "id": "94c1fbde-92da-49f6-b9ed-15ce733a470f",
   "metadata": {},
   "source": [
    "#### Use the *initialize_network* function to create a network that:\n",
    "\n",
    "1. takes 5 inputs\n",
    "2. has three hidden layers\n",
    "3. has 3 nodes in the first layer, 2 nodes in the second layer, and 3 nodes in the third layer\n",
    "4. has 1 node in the output layer\n",
    "\n",
    "Call the network **small_network**.\n"
   ]
  },
  {
   "cell_type": "code",
   "execution_count": null,
   "id": "cbaed361-961b-4dbe-ab3a-a94f157b7a00",
   "metadata": {},
   "outputs": [
    {
     "name": "stdout",
     "output_type": "stream",
     "text": [
      "{'layer_1': {'node_1': {'bias': array([0.04]),\n",
      "                        'weights': array([0.42, 0.42, 0.46, 0.37, 0.47])},\n",
      "             'node_2': {'bias': array([0.22]),\n",
      "                        'weights': array([0.08, 0.73, 0.64, 0.03, 0.3 ])},\n",
      "             'node_3': {'bias': array([0.8]),\n",
      "                        'weights': array([0.06, 0.52, 0.42, 0.05, 0.57])}},\n",
      " 'layer_2': {'node_1': {'bias': array([0.49]),\n",
      "                        'weights': array([0.11, 0.28, 0.64])},\n",
      "             'node_2': {'bias': array([0.61]),\n",
      "                        'weights': array([0.51, 0.46, 0.89])}},\n",
      " 'layer_3': {'node_1': {'bias': array([0.48]), 'weights': array([0.6 , 0.44])},\n",
      "             'node_2': {'bias': array([0.94]), 'weights': array([0.89, 0.21])},\n",
      "             'node_3': {'bias': array([0.03]), 'weights': array([0.07, 0.6 ])}},\n",
      " 'output': {'node_1': {'bias': array([0.94]),\n",
      "                       'weights': array([0.67, 0.64, 0.86])}}}\n"
     ]
    }
   ],
   "source": [
    "from pprint import pprint\n",
    "\n",
    "small_network = initialize_network(5,3,[3,2,3],1)\n",
    "\n",
    "# pprint(small_network) # print the network"
   ]
  },
  {
   "cell_type": "markdown",
   "id": "f093fe06-d33e-43eb-bd9a-c0dcce62a683",
   "metadata": {},
   "source": [
    "Double-click __here__ for the solution.\n",
    "<!-- The correct answer is:\n",
    "small_network = initialize_network(5, 3, [3, 2, 3], 1)\n",
    "-->\n"
   ]
  },
  {
   "cell_type": "markdown",
   "id": "4a49b7e2-4402-405d-b2ff-f158a6214b24",
   "metadata": {},
   "source": [
    "<a id='item13'></a>\n"
   ]
  },
  {
   "cell_type": "markdown",
   "id": "f0f4b289-b4c7-4eae-9880-a69dc2831fcb",
   "metadata": {},
   "source": [
    "## Compute Weighted Sum at Each Node\n"
   ]
  },
  {
   "cell_type": "markdown",
   "id": "176fef91-4b3d-4175-8582-bc4fcd215b56",
   "metadata": {},
   "source": [
    "The weighted sum at each node is computed as the dot product of the inputs and the weights plus the bias. So let's create a function called *compute_weighted_sum* that does just that.\n"
   ]
  },
  {
   "cell_type": "code",
   "execution_count": 19,
   "id": "ac1df6e6-9fe1-4215-8f77-fedd94abe04f",
   "metadata": {},
   "outputs": [],
   "source": [
    "def compute_weighted_sum(inputs, weights, bias):\n",
    "    return np.sum(inputs * weights) + bias"
   ]
  },
  {
   "cell_type": "markdown",
   "id": "d937c1a0-b0c8-4efa-882f-c46779d14acf",
   "metadata": {},
   "source": [
    "Let's generate 5 inputs that we can feed to **small_network**.\n"
   ]
  },
  {
   "cell_type": "code",
   "execution_count": 20,
   "id": "df3774b7-57c1-49ed-9831-205b47a6f156",
   "metadata": {},
   "outputs": [
    {
     "name": "stdout",
     "output_type": "stream",
     "text": [
      "The inputs to the network are [0.15 0.74 0.26 0.53 0.01]\n"
     ]
    }
   ],
   "source": [
    "from random import seed\n",
    "import numpy as np\n",
    "\n",
    "np.random.seed(12)\n",
    "inputs = np.around(np.random.uniform(size=5), decimals=2)\n",
    "\n",
    "print('The inputs to the network are {}'.format(inputs))"
   ]
  },
  {
   "cell_type": "markdown",
   "id": "118124f8-f78b-4b55-980f-651238a931d8",
   "metadata": {},
   "source": [
    "#### Use the *compute_weighted_sum* function to compute the weighted sum at the first node in the first hidden layer.\n"
   ]
  },
  {
   "cell_type": "code",
   "execution_count": null,
   "id": "8af2e139-6a64-4546-ab8f-33b28fa8318c",
   "metadata": {},
   "outputs": [
    {
     "name": "stdout",
     "output_type": "stream",
     "text": [
      "[1.602]\n",
      "The weighted sum at the first node in the hidden layer is 1.602\n"
     ]
    }
   ],
   "source": [
    "node_weights = small_network['layer_1']['node_1']['weights']\n",
    "node_bias = small_network['layer_1']['node_1']['bias']\n",
    "\n",
    "weighted_sum = compute_weighted_sum(inputs, node_weights, node_bias)\n",
    "print('The weighted sum at the first node in the hidden layer is {}'.format(np.around(weighted_sum[0], decimals=4)))"
   ]
  },
  {
   "cell_type": "markdown",
   "id": "cdcdc190-f185-4d03-911b-0cf03b5d05eb",
   "metadata": {},
   "source": [
    "Double-click __here__ for the solution.\n",
    "<!-- The correct answer is:\n",
    "node_weights = small_network['layer_1']['node_1']['weights']\n",
    "node_bias = small_network['layer_1']['node_1']['bias']\n",
    "\n",
    "weighted_sum = compute_weighted_sum(inputs, node_weights, node_bias)\n",
    "print('The weighted sum at the first node in the hidden layer is {}'.format(np.around(weighted_sum[0], decimals=4)))\n",
    "-->\n"
   ]
  },
  {
   "cell_type": "markdown",
   "id": "2b2bf10c-36d1-4385-89d7-ff334b6a7564",
   "metadata": {},
   "source": [
    "<a id='item14'></a>\n"
   ]
  },
  {
   "cell_type": "markdown",
   "id": "4379235b-c604-4d6d-bca8-227e4b641e11",
   "metadata": {},
   "source": [
    "## Compute Node Activation\n"
   ]
  },
  {
   "cell_type": "markdown",
   "id": "f4386268-6be3-4c44-b363-af650c224bde",
   "metadata": {},
   "source": [
    "Recall that the output of each node is simply a non-linear tranformation of the weighted sum. We use activation functions for this mapping. Let's use the sigmoid function as the activation function here. So let's define a function that takes a weighted sum as input and returns the non-linear transformation of the input using the sigmoid function.\n"
   ]
  },
  {
   "cell_type": "code",
   "execution_count": 29,
   "id": "8a38f6f0-99e3-461e-b91e-6370dcac29ae",
   "metadata": {},
   "outputs": [],
   "source": [
    "def node_activation(weighted_sum):\n",
    "    return 1.0 / (1.0 + np.exp(-1 * weighted_sum))"
   ]
  },
  {
   "cell_type": "markdown",
   "id": "4fb9a650-7644-4a4d-9776-bb24d6898bf5",
   "metadata": {},
   "source": [
    "#### Use the *node_activation* function to compute the output of the first node in the first hidden layer.\n"
   ]
  },
  {
   "cell_type": "code",
   "execution_count": 40,
   "id": "02b3d265-0117-4101-bffd-0e1bb28e5e1a",
   "metadata": {},
   "outputs": [
    {
     "name": "stdout",
     "output_type": "stream",
     "text": [
      "The activation of the first node in the hidden layer is 0.8323\n"
     ]
    }
   ],
   "source": [
    "### type your answer here\n",
    "\n",
    "a11 = node_activation(compute_weighted_sum(inputs,node_weights,node_bias)[0]) # activation of the first node in the hidden layer\n",
    "print('The activation of the first node in the hidden layer is {}'.format(np.around(a11, decimals=4)))"
   ]
  },
  {
   "cell_type": "markdown",
   "id": "e0d5c125-14c9-4a06-9a8f-5707ef09bedb",
   "metadata": {},
   "source": [
    "Double-click __here__ for the solution.\n",
    "<!-- The correct answer is:\n",
    "node_output  = node_activation(compute_weighted_sum(inputs, node_weights, node_bias))\n",
    "print('The output of the first node in the hidden layer is {}'.format(np.around(node_output[0], decimals=4)))\n",
    "-->\n"
   ]
  },
  {
   "cell_type": "markdown",
   "id": "e7249407-1d43-44a4-9396-732ccbd3ad6a",
   "metadata": {},
   "source": [
    "   \n"
   ]
  },
  {
   "cell_type": "markdown",
   "id": "05d077fa-e5f4-42a6-a235-062865652368",
   "metadata": {},
   "source": [
    "## Forward Propagation\n"
   ]
  },
  {
   "cell_type": "markdown",
   "id": "5388c409-4fbe-4856-952d-ba07ee019030",
   "metadata": {},
   "source": [
    "The final piece of building a neural network that can perform predictions is to put everything together. So let's create a function that applies the *compute_weighted_sum* and *node_activation* functions to each node in the network and propagates the data all the way to the output layer and outputs a prediction for each node in the output layer.\n"
   ]
  },
  {
   "cell_type": "markdown",
   "id": "75142473-5243-49d0-bded-adad1ea693a5",
   "metadata": {},
   "source": [
    "The way we are going to accomplish this is through the following procedure:\n",
    "\n",
    "1. Start with the input layer as the input to the first hidden layer.\n",
    "2. Compute the weighted sum at the nodes of the current layer.\n",
    "3. Compute the output of the nodes of the current layer.\n",
    "4. Set the output of the current layer to be the input to the next layer.\n",
    "5. Move to the next layer in the network.\n",
    "6. Repeat steps 2 - 5 until we compute the output of the output layer.\n"
   ]
  },
  {
   "cell_type": "code",
   "execution_count": 76,
   "id": "33b5bf71-e9b1-4f54-ba3c-f1e82ef36763",
   "metadata": {},
   "outputs": [],
   "source": [
    "def forward_propagate(network, inputs):\n",
    "    \n",
    "    layer_inputs = list(inputs) # start with the input layer as the input to the first hidden layer\n",
    "    for layer in network:\n",
    "        \n",
    "        layer_data = network[layer]\n",
    "        \n",
    "        layer_outputs = [] \n",
    "        for layer_node in layer_data:\n",
    "        \n",
    "            node_data = layer_data[layer_node]\n",
    "            # pprint(node_data)\n",
    "            # print(\"inputs\")\n",
    "            # pprint(layer_inputs)\n",
    "        \n",
    "            # compute the weighted sum and the output of each node at the same time \n",
    "            node_output = node_activation(compute_weighted_sum(layer_inputs, node_data['weights'], node_data['bias']))\n",
    "            layer_outputs.append(np.around(node_output[0], decimals=4))\n",
    "        if layer != 'output':\n",
    "            print('The outputs of the nodes in hidden layer number {} is {}'.format(layer.split('_')[1], layer_outputs))\n",
    "        \n",
    "        # print(layer_outputs)\n",
    "        \n",
    "    \n",
    "        layer_inputs = layer_outputs # set the output of this layer to be the input to next layer\n",
    "\n",
    "    network_predictions = layer_outputs\n",
    "    return network_predictions"
   ]
  },
  {
   "cell_type": "markdown",
   "id": "172486b6-3186-495e-bc83-a83f9ce61ed9",
   "metadata": {},
   "source": [
    "#### Use the *forward_propagate* function to compute the prediction of our small network\n"
   ]
  },
  {
   "cell_type": "code",
   "execution_count": 78,
   "id": "89491d1b-fdb2-4a58-a88b-f2c99c6145ca",
   "metadata": {},
   "outputs": [
    {
     "name": "stdout",
     "output_type": "stream",
     "text": [
      "The outputs of the nodes in hidden layer number 1 is [0.6757, 0.7226, 0.7917]\n",
      "The outputs of the nodes in hidden layer number 2 is [0.7813, 0.8799]\n",
      "The outputs of the nodes in hidden layer number 3 is [0.7918, 0.8606, 0.6485]\n"
     ]
    }
   ],
   "source": [
    "predictions = forward_propagate(small_network, inputs) # run the forward propagation function\n",
    "\n"
   ]
  },
  {
   "cell_type": "markdown",
   "id": "53e26c85-d53b-4845-9aee-2058414a02fc",
   "metadata": {},
   "source": [
    "Double-click __here__ for the solution.\n",
    "<!-- The correct answer is:\n",
    "predictions = forward_propagate(small_network, inputs)\n",
    "print('The predicted value by the network for the given input is {}'.format(np.around(predictions[0], decimals=4)))\n",
    "-->\n"
   ]
  },
  {
   "cell_type": "markdown",
   "id": "de14b532-04c4-4a13-baa6-fd0ebba25be8",
   "metadata": {},
   "source": [
    "So we built the code to define a neural network. We can specify the number of inputs that a neural network can take, the number of hidden layers as well as the number of nodes in each hidden layer, and the number of nodes in the output layer.\n"
   ]
  },
  {
   "cell_type": "markdown",
   "id": "35d3adb7-8d31-4aef-ab1d-617bcbc216f8",
   "metadata": {},
   "source": [
    "We first use the *initialize_network* to create our neural network and define its weights and biases.\n"
   ]
  },
  {
   "cell_type": "code",
   "execution_count": 79,
   "id": "d0fc9725-c285-43e4-a757-fad81e91f4ce",
   "metadata": {},
   "outputs": [],
   "source": [
    "my_network = initialize_network(5, 3, [2, 3, 2], 3)"
   ]
  },
  {
   "cell_type": "markdown",
   "id": "9b2eef60-f2d9-403f-af3d-5c3485fff7f0",
   "metadata": {},
   "source": [
    "Then, for a given input,\n"
   ]
  },
  {
   "cell_type": "code",
   "execution_count": 80,
   "id": "1f1d5c8b-69a0-48b2-bdd0-9a40d70affe0",
   "metadata": {},
   "outputs": [],
   "source": [
    "inputs = np.around(np.random.uniform(size=5), decimals=2)"
   ]
  },
  {
   "cell_type": "markdown",
   "id": "5484c36b-b9e9-40cc-aa1b-43946d381fa7",
   "metadata": {},
   "source": [
    "we compute the network predictions.\n"
   ]
  },
  {
   "cell_type": "code",
   "execution_count": 81,
   "id": "b7c7caa4-8118-4aa1-bbaa-2ad50df520be",
   "metadata": {},
   "outputs": [
    {
     "name": "stdout",
     "output_type": "stream",
     "text": [
      "The outputs of the nodes in hidden layer number 1 is [0.8355, 0.929]\n",
      "The outputs of the nodes in hidden layer number 2 is [0.8527, 0.7297, 0.8413]\n",
      "The outputs of the nodes in hidden layer number 3 is [0.8697, 0.7379]\n",
      "The predicted values by the network for the given input are [0.7928, 0.781, 0.7255]\n"
     ]
    }
   ],
   "source": [
    "predictions = forward_propagate(my_network, inputs)\n",
    "print('The predicted values by the network for the given input are {}'.format(predictions))"
   ]
  },
  {
   "cell_type": "markdown",
   "id": "1420f3d7-269d-4d51-9d12-f77967876267",
   "metadata": {},
   "source": [
    "Feel free to play around with the code by creating different networks of different structures and enjoy making predictions using the *forward_propagate* function.\n"
   ]
  },
  {
   "cell_type": "code",
   "execution_count": 83,
   "id": "8a92fdda-53cc-4688-951a-f128872ed698",
   "metadata": {},
   "outputs": [
    {
     "name": "stdout",
     "output_type": "stream",
     "text": [
      "The outputs of the nodes in hidden layer number 1 is [0.9561, 0.7375, 0.926, 0.9613, 0.9546]\n",
      "The outputs of the nodes in hidden layer number 2 is [0.9521]\n",
      "The outputs of the nodes in hidden layer number 3 is [0.7547, 0.7751, 0.7639, 0.7263, 0.6827]\n",
      "The outputs of the nodes in hidden layer number 4 is [0.9673]\n",
      "The outputs of the nodes in hidden layer number 5 is [0.6936, 0.7166, 0.7494, 0.6642, 0.7401]\n",
      "The outputs of the nodes in hidden layer number 6 is [0.8968]\n",
      "The outputs of the nodes in hidden layer number 7 is [0.7277, 0.8182, 0.7514, 0.7012, 0.6512]\n",
      "The outputs of the nodes in hidden layer number 8 is [0.9216]\n",
      "The outputs of the nodes in hidden layer number 9 is [0.7702, 0.8331, 0.8197, 0.7841, 0.7012]\n",
      "The outputs of the nodes in hidden layer number 10 is [0.8742, 0.9252, 0.8643, 0.9133, 0.9605, 0.9385, 0.9122, 0.9143, 0.8648, 0.953]\n",
      "The predicted values by the network for the given input are [0.9975]\n"
     ]
    }
   ],
   "source": [
    "### create a network\n",
    "big_network = initialize_network(10,10,[5,1,5,1,5,1,5,1,5,10],1)\n",
    "inputs = np.around(np.random.uniform(size=10), decimals=2)\n",
    "\n",
    "predictions = forward_propagate(big_network, inputs)\n",
    "print('The predicted values by the network for the given input are {}'.format(predictions))\n",
    "\n",
    "\n"
   ]
  },
  {
   "cell_type": "code",
   "execution_count": null,
   "id": "991bcfc2-d537-401e-9603-195ca411224f",
   "metadata": {},
   "outputs": [],
   "source": [
    "### create another network\n",
    "\n",
    "\n",
    "\n"
   ]
  },
  {
   "cell_type": "markdown",
   "id": "12482153-e3a4-45e1-ba49-1fc84fb1c420",
   "metadata": {},
   "source": [
    "### Thank you for completing this lab!\n",
    "\n",
    "This notebook was created by [Alex Aklson](https://www.linkedin.com/in/aklson/). I hope you found this lab interesting and educational. Feel free to contact me if you have any questions!\n"
   ]
  },
  {
   "cell_type": "markdown",
   "id": "371a2f81-31c3-4c03-8de1-d335bd20e533",
   "metadata": {},
   "source": [
    "<!--\n",
    "## Change Log\n",
    "\n",
    "|  Date (YYYY-MM-DD) |  Version | Changed By  |  Change Description |\n",
    "|---|---|---|---|\n",
    "| 2024-11-20  | 3.0  | Aman  |  Migrated Lab to JupyterLite  and updated the library version to current |\n",
    "| 2020-09-21  | 2.0  | Srishti  |  Migrated Lab to Markdown and added to course repo in GitLab |\n",
    "\n",
    "\n",
    "\n",
    "<hr>\n",
    "\n",
    "## <h3 align=\"center\"> © IBM Corporation. All rights reserved. <h3/>\n"
   ]
  },
  {
   "cell_type": "markdown",
   "id": "38dc31c6-4c6e-4ff2-ab1a-8c6ee78bdeed",
   "metadata": {},
   "source": [
    "## <h3 align=\"center\"> &#169; IBM Corporation. All rights reserved. <h3/>\n"
   ]
  }
 ],
 "metadata": {
  "kernelspec": {
   "display_name": "Python 3",
   "language": "python",
   "name": "python3"
  },
  "language_info": {
   "codemirror_mode": {
    "name": "ipython",
    "version": 3
   },
   "file_extension": ".py",
   "mimetype": "text/x-python",
   "name": "python",
   "nbconvert_exporter": "python",
   "pygments_lexer": "ipython3",
   "version": "3.12.0"
  },
  "prev_pub_hash": "2854def07a921578284c6bf1661892dadf79c0fb12b6b571d2349a3c1f66cc8b"
 },
 "nbformat": 4,
 "nbformat_minor": 4
}

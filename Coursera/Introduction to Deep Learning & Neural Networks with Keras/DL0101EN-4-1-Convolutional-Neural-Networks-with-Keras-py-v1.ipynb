{
 "cells": [
  {
   "cell_type": "markdown",
   "id": "6a259076-5a31-482e-b598-0138c6bfe11a",
   "metadata": {},
   "source": [
    "<a href=\"https://cognitiveclass.ai\"><img src=\"https://cf-courses-data.s3.us.cloud-object-storage.appdomain.cloud/IBMDeveloperSkillsNetwork-DL0101EN-SkillsNetwork/images/IDSN-logo.png\" width=\"400\"> </a>\n",
    "\n",
    "# Convolutional Neural Networks with Keras\n",
    "\n",
    "Estimated time needed **30** mins\n"
   ]
  },
  {
   "cell_type": "markdown",
   "id": "2a86cd7f-c191-4c78-92a5-2479b13cba2b",
   "metadata": {},
   "source": [
    "In this lab, we will learn how to use the Keras library to build convolutional neural networks. We will also use the popular MNIST dataset and we will compare our results to using a conventional neural network.\n"
   ]
  },
  {
   "cell_type": "markdown",
   "id": "a7c948e3-995c-45c0-86f0-8916fbee6b02",
   "metadata": {},
   "source": [
    "## Objectives for this Notebook    \n",
    "* How to use the Keras library to build convolutional neural networks\n",
    "* Convolutional neural network with one set of convolutional and pooling layers\n",
    "* Convolutional neural network with two sets of convolutional and pooling layers\n",
    "\n"
   ]
  },
  {
   "cell_type": "markdown",
   "id": "82e267c1-74e4-4f30-be50-15b58d592add",
   "metadata": {},
   "source": [
    "## Table of Contents\n",
    "\n",
    "<div class=\"alert alert-block alert-info\" style=\"margin-top: 20px\">\n",
    "\n",
    "<font size = 3>\n",
    "      \n",
    "1. <a href=\"#Import-Keras-and-Packages\">Import Keras and Packages</a>   \n",
    "2. <a href=\"#Convolutional-Neural-Network-with-One-Set-of-Convolutional-and-Pooling-Layers\">Convolutional Neural Network with One Set of Convolutional and Pooling Layers</a>  \n",
    "3. <a href=\"#Convolutional-Neural-Network-with-Two-Sets-of-Convolutional-and-Pooling-Layers\">Convolutional Neural Network with Two Sets of Convolutional and Pooling Layers</a>  \n",
    "\n",
    "</font>\n",
    "</div>\n"
   ]
  },
  {
   "cell_type": "markdown",
   "id": "a2725718-c839-403f-8017-236d760c20c0",
   "metadata": {},
   "source": [
    "### Install the necessary libraries\n"
   ]
  },
  {
   "cell_type": "markdown",
   "id": "5860a2ee-ec49-4add-ad79-556d6960495a",
   "metadata": {},
   "source": [
    "Let's start by installing the keras libraries and the packages that we would need to build a neural network.\n"
   ]
  },
  {
   "cell_type": "code",
   "execution_count": null,
   "id": "dc5e450c-e81e-42b1-a564-7d59bd960067",
   "metadata": {},
   "outputs": [
    {
     "name": "stdout",
     "output_type": "stream",
     "text": [
      "Requirement already satisfied: numpy==2.0.2 in c:\\users\\mateu\\appdata\\local\\programs\\python\\python311\\lib\\site-packages (2.0.2)\n"
     ]
    },
    {
     "name": "stderr",
     "output_type": "stream",
     "text": [
      "\n",
      "[notice] A new release of pip is available: 24.0 -> 25.1.1\n",
      "[notice] To update, run: python.exe -m pip install --upgrade pip\n"
     ]
    },
    {
     "name": "stdout",
     "output_type": "stream",
     "text": [
      "Requirement already satisfied: pandas==2.2.2 in c:\\users\\mateu\\appdata\\local\\programs\\python\\python311\\lib\\site-packages (2.2.2)\n",
      "Requirement already satisfied: numpy>=1.23.2 in c:\\users\\mateu\\appdata\\local\\programs\\python\\python311\\lib\\site-packages (from pandas==2.2.2) (2.0.2)\n",
      "Requirement already satisfied: python-dateutil>=2.8.2 in c:\\users\\mateu\\appdata\\roaming\\python\\python311\\site-packages (from pandas==2.2.2) (2.9.0.post0)\n",
      "Requirement already satisfied: pytz>=2020.1 in c:\\users\\mateu\\appdata\\local\\programs\\python\\python311\\lib\\site-packages (from pandas==2.2.2) (2025.2)\n",
      "Requirement already satisfied: tzdata>=2022.7 in c:\\users\\mateu\\appdata\\local\\programs\\python\\python311\\lib\\site-packages (from pandas==2.2.2) (2025.2)\n",
      "Requirement already satisfied: six>=1.5 in c:\\users\\mateu\\appdata\\roaming\\python\\python311\\site-packages (from python-dateutil>=2.8.2->pandas==2.2.2) (1.17.0)\n"
     ]
    },
    {
     "name": "stderr",
     "output_type": "stream",
     "text": [
      "\n",
      "[notice] A new release of pip is available: 24.0 -> 25.1.1\n",
      "[notice] To update, run: python.exe -m pip install --upgrade pip\n"
     ]
    },
    {
     "name": "stdout",
     "output_type": "stream",
     "text": [
      "Requirement already satisfied: tensorflow_cpu==2.18.0 in c:\\users\\mateu\\appdata\\local\\programs\\python\\python311\\lib\\site-packages (2.18.0)\n",
      "Requirement already satisfied: tensorflow-intel==2.18.0 in c:\\users\\mateu\\appdata\\local\\programs\\python\\python311\\lib\\site-packages (from tensorflow_cpu==2.18.0) (2.18.0)\n",
      "Requirement already satisfied: absl-py>=1.0.0 in c:\\users\\mateu\\appdata\\local\\programs\\python\\python311\\lib\\site-packages (from tensorflow-intel==2.18.0->tensorflow_cpu==2.18.0) (2.2.2)\n",
      "Requirement already satisfied: astunparse>=1.6.0 in c:\\users\\mateu\\appdata\\local\\programs\\python\\python311\\lib\\site-packages (from tensorflow-intel==2.18.0->tensorflow_cpu==2.18.0) (1.6.3)\n",
      "Requirement already satisfied: flatbuffers>=24.3.25 in c:\\users\\mateu\\appdata\\local\\programs\\python\\python311\\lib\\site-packages (from tensorflow-intel==2.18.0->tensorflow_cpu==2.18.0) (25.2.10)\n",
      "Requirement already satisfied: gast!=0.5.0,!=0.5.1,!=0.5.2,>=0.2.1 in c:\\users\\mateu\\appdata\\local\\programs\\python\\python311\\lib\\site-packages (from tensorflow-intel==2.18.0->tensorflow_cpu==2.18.0) (0.6.0)\n",
      "Requirement already satisfied: google-pasta>=0.1.1 in c:\\users\\mateu\\appdata\\local\\programs\\python\\python311\\lib\\site-packages (from tensorflow-intel==2.18.0->tensorflow_cpu==2.18.0) (0.2.0)\n",
      "Requirement already satisfied: libclang>=13.0.0 in c:\\users\\mateu\\appdata\\local\\programs\\python\\python311\\lib\\site-packages (from tensorflow-intel==2.18.0->tensorflow_cpu==2.18.0) (18.1.1)\n",
      "Requirement already satisfied: opt-einsum>=2.3.2 in c:\\users\\mateu\\appdata\\local\\programs\\python\\python311\\lib\\site-packages (from tensorflow-intel==2.18.0->tensorflow_cpu==2.18.0) (3.4.0)\n",
      "Requirement already satisfied: packaging in c:\\users\\mateu\\appdata\\roaming\\python\\python311\\site-packages (from tensorflow-intel==2.18.0->tensorflow_cpu==2.18.0) (25.0)\n",
      "Requirement already satisfied: protobuf!=4.21.0,!=4.21.1,!=4.21.2,!=4.21.3,!=4.21.4,!=4.21.5,<6.0.0dev,>=3.20.3 in c:\\users\\mateu\\appdata\\local\\programs\\python\\python311\\lib\\site-packages (from tensorflow-intel==2.18.0->tensorflow_cpu==2.18.0) (5.29.4)\n",
      "Requirement already satisfied: requests<3,>=2.21.0 in c:\\users\\mateu\\appdata\\local\\programs\\python\\python311\\lib\\site-packages (from tensorflow-intel==2.18.0->tensorflow_cpu==2.18.0) (2.32.3)\n",
      "Requirement already satisfied: setuptools in c:\\users\\mateu\\appdata\\local\\programs\\python\\python311\\lib\\site-packages (from tensorflow-intel==2.18.0->tensorflow_cpu==2.18.0) (65.5.0)\n",
      "Requirement already satisfied: six>=1.12.0 in c:\\users\\mateu\\appdata\\roaming\\python\\python311\\site-packages (from tensorflow-intel==2.18.0->tensorflow_cpu==2.18.0) (1.17.0)\n",
      "Requirement already satisfied: termcolor>=1.1.0 in c:\\users\\mateu\\appdata\\local\\programs\\python\\python311\\lib\\site-packages (from tensorflow-intel==2.18.0->tensorflow_cpu==2.18.0) (3.1.0)\n",
      "Requirement already satisfied: typing-extensions>=3.6.6 in c:\\users\\mateu\\appdata\\roaming\\python\\python311\\site-packages (from tensorflow-intel==2.18.0->tensorflow_cpu==2.18.0) (4.13.2)\n",
      "Requirement already satisfied: wrapt>=1.11.0 in c:\\users\\mateu\\appdata\\local\\programs\\python\\python311\\lib\\site-packages (from tensorflow-intel==2.18.0->tensorflow_cpu==2.18.0) (1.17.2)\n",
      "Requirement already satisfied: grpcio<2.0,>=1.24.3 in c:\\users\\mateu\\appdata\\local\\programs\\python\\python311\\lib\\site-packages (from tensorflow-intel==2.18.0->tensorflow_cpu==2.18.0) (1.71.0)\n",
      "Requirement already satisfied: tensorboard<2.19,>=2.18 in c:\\users\\mateu\\appdata\\local\\programs\\python\\python311\\lib\\site-packages (from tensorflow-intel==2.18.0->tensorflow_cpu==2.18.0) (2.18.0)\n",
      "Requirement already satisfied: keras>=3.5.0 in c:\\users\\mateu\\appdata\\local\\programs\\python\\python311\\lib\\site-packages (from tensorflow-intel==2.18.0->tensorflow_cpu==2.18.0) (3.9.2)\n",
      "Requirement already satisfied: numpy<2.1.0,>=1.26.0 in c:\\users\\mateu\\appdata\\local\\programs\\python\\python311\\lib\\site-packages (from tensorflow-intel==2.18.0->tensorflow_cpu==2.18.0) (2.0.2)\n",
      "Requirement already satisfied: h5py>=3.11.0 in c:\\users\\mateu\\appdata\\local\\programs\\python\\python311\\lib\\site-packages (from tensorflow-intel==2.18.0->tensorflow_cpu==2.18.0) (3.13.0)\n",
      "Requirement already satisfied: ml-dtypes<0.5.0,>=0.4.0 in c:\\users\\mateu\\appdata\\local\\programs\\python\\python311\\lib\\site-packages (from tensorflow-intel==2.18.0->tensorflow_cpu==2.18.0) (0.4.1)\n",
      "Requirement already satisfied: tensorflow-io-gcs-filesystem>=0.23.1 in c:\\users\\mateu\\appdata\\local\\programs\\python\\python311\\lib\\site-packages (from tensorflow-intel==2.18.0->tensorflow_cpu==2.18.0) (0.31.0)\n",
      "Requirement already satisfied: wheel<1.0,>=0.23.0 in c:\\users\\mateu\\appdata\\local\\programs\\python\\python311\\lib\\site-packages (from astunparse>=1.6.0->tensorflow-intel==2.18.0->tensorflow_cpu==2.18.0) (0.45.1)\n",
      "Requirement already satisfied: rich in c:\\users\\mateu\\appdata\\local\\programs\\python\\python311\\lib\\site-packages (from keras>=3.5.0->tensorflow-intel==2.18.0->tensorflow_cpu==2.18.0) (14.0.0)\n",
      "Requirement already satisfied: namex in c:\\users\\mateu\\appdata\\local\\programs\\python\\python311\\lib\\site-packages (from keras>=3.5.0->tensorflow-intel==2.18.0->tensorflow_cpu==2.18.0) (0.0.9)\n",
      "Requirement already satisfied: optree in c:\\users\\mateu\\appdata\\local\\programs\\python\\python311\\lib\\site-packages (from keras>=3.5.0->tensorflow-intel==2.18.0->tensorflow_cpu==2.18.0) (0.15.0)\n",
      "Requirement already satisfied: charset-normalizer<4,>=2 in c:\\users\\mateu\\appdata\\local\\programs\\python\\python311\\lib\\site-packages (from requests<3,>=2.21.0->tensorflow-intel==2.18.0->tensorflow_cpu==2.18.0) (3.4.2)\n",
      "Requirement already satisfied: idna<4,>=2.5 in c:\\users\\mateu\\appdata\\local\\programs\\python\\python311\\lib\\site-packages (from requests<3,>=2.21.0->tensorflow-intel==2.18.0->tensorflow_cpu==2.18.0) (3.10)\n",
      "Requirement already satisfied: urllib3<3,>=1.21.1 in c:\\users\\mateu\\appdata\\local\\programs\\python\\python311\\lib\\site-packages (from requests<3,>=2.21.0->tensorflow-intel==2.18.0->tensorflow_cpu==2.18.0) (2.4.0)\n",
      "Requirement already satisfied: certifi>=2017.4.17 in c:\\users\\mateu\\appdata\\local\\programs\\python\\python311\\lib\\site-packages (from requests<3,>=2.21.0->tensorflow-intel==2.18.0->tensorflow_cpu==2.18.0) (2025.4.26)\n",
      "Requirement already satisfied: markdown>=2.6.8 in c:\\users\\mateu\\appdata\\local\\programs\\python\\python311\\lib\\site-packages (from tensorboard<2.19,>=2.18->tensorflow-intel==2.18.0->tensorflow_cpu==2.18.0) (3.8)\n",
      "Requirement already satisfied: tensorboard-data-server<0.8.0,>=0.7.0 in c:\\users\\mateu\\appdata\\local\\programs\\python\\python311\\lib\\site-packages (from tensorboard<2.19,>=2.18->tensorflow-intel==2.18.0->tensorflow_cpu==2.18.0) (0.7.2)\n",
      "Requirement already satisfied: werkzeug>=1.0.1 in c:\\users\\mateu\\appdata\\local\\programs\\python\\python311\\lib\\site-packages (from tensorboard<2.19,>=2.18->tensorflow-intel==2.18.0->tensorflow_cpu==2.18.0) (3.1.3)\n",
      "Requirement already satisfied: MarkupSafe>=2.1.1 in c:\\users\\mateu\\appdata\\local\\programs\\python\\python311\\lib\\site-packages (from werkzeug>=1.0.1->tensorboard<2.19,>=2.18->tensorflow-intel==2.18.0->tensorflow_cpu==2.18.0) (3.0.2)\n",
      "Requirement already satisfied: markdown-it-py>=2.2.0 in c:\\users\\mateu\\appdata\\local\\programs\\python\\python311\\lib\\site-packages (from rich->keras>=3.5.0->tensorflow-intel==2.18.0->tensorflow_cpu==2.18.0) (3.0.0)\n",
      "Requirement already satisfied: pygments<3.0.0,>=2.13.0 in c:\\users\\mateu\\appdata\\roaming\\python\\python311\\site-packages (from rich->keras>=3.5.0->tensorflow-intel==2.18.0->tensorflow_cpu==2.18.0) (2.19.1)\n",
      "Requirement already satisfied: mdurl~=0.1 in c:\\users\\mateu\\appdata\\local\\programs\\python\\python311\\lib\\site-packages (from markdown-it-py>=2.2.0->rich->keras>=3.5.0->tensorflow-intel==2.18.0->tensorflow_cpu==2.18.0) (0.1.2)\n"
     ]
    },
    {
     "name": "stderr",
     "output_type": "stream",
     "text": [
      "\n",
      "[notice] A new release of pip is available: 24.0 -> 25.1.1\n",
      "[notice] To update, run: python.exe -m pip install --upgrade pip\n"
     ]
    },
    {
     "name": "stdout",
     "output_type": "stream",
     "text": [
      "Requirement already satisfied: matplotlib==3.9.2 in c:\\users\\mateu\\appdata\\local\\programs\\python\\python311\\lib\\site-packages (3.9.2)\n",
      "Requirement already satisfied: contourpy>=1.0.1 in c:\\users\\mateu\\appdata\\local\\programs\\python\\python311\\lib\\site-packages (from matplotlib==3.9.2) (1.3.2)\n",
      "Requirement already satisfied: cycler>=0.10 in c:\\users\\mateu\\appdata\\local\\programs\\python\\python311\\lib\\site-packages (from matplotlib==3.9.2) (0.12.1)\n",
      "Requirement already satisfied: fonttools>=4.22.0 in c:\\users\\mateu\\appdata\\local\\programs\\python\\python311\\lib\\site-packages (from matplotlib==3.9.2) (4.57.0)\n",
      "Requirement already satisfied: kiwisolver>=1.3.1 in c:\\users\\mateu\\appdata\\local\\programs\\python\\python311\\lib\\site-packages (from matplotlib==3.9.2) (1.4.8)\n",
      "Requirement already satisfied: numpy>=1.23 in c:\\users\\mateu\\appdata\\local\\programs\\python\\python311\\lib\\site-packages (from matplotlib==3.9.2) (2.0.2)\n",
      "Requirement already satisfied: packaging>=20.0 in c:\\users\\mateu\\appdata\\roaming\\python\\python311\\site-packages (from matplotlib==3.9.2) (25.0)\n",
      "Requirement already satisfied: pillow>=8 in c:\\users\\mateu\\appdata\\local\\programs\\python\\python311\\lib\\site-packages (from matplotlib==3.9.2) (11.2.1)\n",
      "Requirement already satisfied: pyparsing>=2.3.1 in c:\\users\\mateu\\appdata\\local\\programs\\python\\python311\\lib\\site-packages (from matplotlib==3.9.2) (3.2.3)\n",
      "Requirement already satisfied: python-dateutil>=2.7 in c:\\users\\mateu\\appdata\\roaming\\python\\python311\\site-packages (from matplotlib==3.9.2) (2.9.0.post0)\n",
      "Requirement already satisfied: six>=1.5 in c:\\users\\mateu\\appdata\\roaming\\python\\python311\\site-packages (from python-dateutil>=2.7->matplotlib==3.9.2) (1.17.0)\n"
     ]
    },
    {
     "name": "stderr",
     "output_type": "stream",
     "text": [
      "\n",
      "[notice] A new release of pip is available: 24.0 -> 25.1.1\n",
      "[notice] To update, run: python.exe -m pip install --upgrade pip\n"
     ]
    }
   ],
   "source": [
    "# All Libraries required for this lab are listed below. The libraries need to be installed on Skills Network Labs. \n",
    "# If you run this notebook on a different environment, e.g. your desktop, you may want to install these.\n",
    "# !pip install numpy==2.0.2\n",
    "# !pip install pandas==2.2.2\n",
    "# !pip install tensorflow_cpu==2.18.0\n",
    "# !pip install matplotlib==3.9.2"
   ]
  },
  {
   "cell_type": "markdown",
   "id": "df48ab35-3ce3-4d73-9e9f-142c1c272773",
   "metadata": {},
   "source": [
    "#### Suppress the tensorflow warning messages\n",
    "We use the following code to  suppress the warning messages due to use of CPU architechture for tensoflow.\n",
    "You may want to **comment out** these lines if you are using the GPU architechture\n"
   ]
  },
  {
   "cell_type": "code",
   "execution_count": null,
   "id": "c4d79a7c-6cbc-4b7c-8f6e-23c4d3dbec4f",
   "metadata": {},
   "outputs": [],
   "source": [
    "# import os\n",
    "# os.environ['TF_ENABLE_ONEDNN_OPTS'] = '0'\n",
    "# os.environ['TF_CPP_MIN_LOG_LEVEL'] = '2'"
   ]
  },
  {
   "cell_type": "markdown",
   "id": "c8cb5959-7529-4024-aabe-711e02b1a573",
   "metadata": {},
   "source": [
    "## Import Keras and Packages\n"
   ]
  },
  {
   "cell_type": "code",
   "execution_count": 17,
   "id": "54f7f5de-dd4f-4160-97a7-41fc13358596",
   "metadata": {},
   "outputs": [],
   "source": [
    "import keras\n",
    "from keras.models import Sequential\n",
    "from keras.layers import Dense\n",
    "from keras.layers import Input\n",
    "from keras.utils import to_categorical"
   ]
  },
  {
   "cell_type": "markdown",
   "id": "6ae6ee1f-c5f9-4136-a661-d0ecad7bc618",
   "metadata": {},
   "source": [
    "When working with convolutional neural networks in particular, we will need additional packages.\n"
   ]
  },
  {
   "cell_type": "code",
   "execution_count": 18,
   "id": "59965020-f741-41d0-8b70-00253641ff4c",
   "metadata": {},
   "outputs": [],
   "source": [
    "from keras.layers import Conv2D # to add convolutional layers\n",
    "from keras.layers import MaxPooling2D # to add pooling layers\n",
    "from keras.layers import Flatten # to flatten data for fully connected layers"
   ]
  },
  {
   "cell_type": "markdown",
   "id": "b4be0cd5-9e2a-44f7-a6de-1fdc46923fb4",
   "metadata": {},
   "source": [
    "## Convolutional Neural Network with One Set of Convolutional and Pooling Layers\n"
   ]
  },
  {
   "cell_type": "code",
   "execution_count": 19,
   "id": "21cd5320-20a6-4e90-89be-81af7990a4c5",
   "metadata": {},
   "outputs": [],
   "source": [
    "# import data\n",
    "from keras.datasets import mnist\n",
    "\n",
    "# load data\n",
    "(X_train, y_train), (X_test, y_test) = mnist.load_data()\n",
    "# reshape to be [samples][pixels][width][height]\n",
    "X_train = X_train.reshape(X_train.shape[0], 28, 28, 1).astype('float32')\n",
    "X_test = X_test.reshape(X_test.shape[0], 28, 28, 1).astype('float32')\n"
   ]
  },
  {
   "cell_type": "markdown",
   "id": "82a804cb-2ea6-4925-94a1-ef4ba5a2ef1d",
   "metadata": {},
   "source": [
    "Let's normalize the pixel values to be between 0 and 1\n"
   ]
  },
  {
   "cell_type": "code",
   "execution_count": 20,
   "id": "26b2fc47-fbfb-42ce-bfe7-d1cda99d4988",
   "metadata": {},
   "outputs": [],
   "source": [
    "X_train = X_train / 255 # normalize training data\n",
    "X_test = X_test / 255 # normalize test data"
   ]
  },
  {
   "cell_type": "markdown",
   "id": "58622fd9-b0ff-408c-baf5-4db94f8a0a97",
   "metadata": {},
   "source": [
    "Next, let's convert the target variable into binary categories\n"
   ]
  },
  {
   "cell_type": "code",
   "execution_count": null,
   "id": "c01c40ef-75ba-4c87-954a-4f5ecef7b41f",
   "metadata": {},
   "outputs": [
    {
     "name": "stdout",
     "output_type": "stream",
     "text": [
      "[0. 0. 0. 0. 0. 1. 0. 0. 0. 0.]\n"
     ]
    }
   ],
   "source": [
    "y_train = to_categorical(y_train)\n",
    "y_test = to_categorical(y_test)\n",
    "\n",
    "num_classes = y_test.shape[1] # number of categories"
   ]
  },
  {
   "cell_type": "markdown",
   "id": "2c42c05a-ae9e-44bc-ab58-5b5c55c6cc43",
   "metadata": {},
   "source": [
    "Next, let's define a function that creates our model. Let's start with one set of convolutional and pooling layers.\n"
   ]
  },
  {
   "cell_type": "code",
   "execution_count": 22,
   "id": "678716df-28c6-4944-872b-2ab253d7ea68",
   "metadata": {},
   "outputs": [],
   "source": [
    "def convolutional_model():\n",
    "    \n",
    "    # create model\n",
    "    model = Sequential()\n",
    "    model.add(Input(shape=(28, 28, 1)))\n",
    "    model.add(Conv2D(16, (5, 5), strides=(1, 1), activation='relu'))\n",
    "    model.add(MaxPooling2D(pool_size=(2, 2), strides=(2, 2)))\n",
    "    \n",
    "    model.add(Flatten())\n",
    "    model.add(Dense(100, activation='relu'))\n",
    "    model.add(Dense(num_classes, activation='softmax'))\n",
    "    \n",
    "    # compile model\n",
    "    model.compile(optimizer='adam', loss='categorical_crossentropy',  metrics=['accuracy'])\n",
    "    return model"
   ]
  },
  {
   "cell_type": "markdown",
   "id": "d94c41fa-0fae-482c-b4f5-0729d31569c2",
   "metadata": {},
   "source": [
    "Finally, let's call the function to create the model, and then let's train it and evaluate it.\n"
   ]
  },
  {
   "cell_type": "code",
   "execution_count": 23,
   "id": "095aa859-c641-4d6d-abb6-a1712a64f89b",
   "metadata": {},
   "outputs": [
    {
     "name": "stdout",
     "output_type": "stream",
     "text": [
      "Epoch 1/10\n",
      "300/300 - 6s - 19ms/step - accuracy: 0.9161 - loss: 0.3032 - val_accuracy: 0.9657 - val_loss: 0.1119\n",
      "Epoch 2/10\n",
      "300/300 - 5s - 16ms/step - accuracy: 0.9730 - loss: 0.0924 - val_accuracy: 0.9786 - val_loss: 0.0705\n",
      "Epoch 3/10\n",
      "300/300 - 5s - 15ms/step - accuracy: 0.9813 - loss: 0.0631 - val_accuracy: 0.9829 - val_loss: 0.0539\n",
      "Epoch 4/10\n",
      "300/300 - 5s - 16ms/step - accuracy: 0.9853 - loss: 0.0482 - val_accuracy: 0.9841 - val_loss: 0.0484\n",
      "Epoch 5/10\n",
      "300/300 - 5s - 17ms/step - accuracy: 0.9881 - loss: 0.0394 - val_accuracy: 0.9850 - val_loss: 0.0454\n",
      "Epoch 6/10\n",
      "300/300 - 5s - 18ms/step - accuracy: 0.9893 - loss: 0.0346 - val_accuracy: 0.9845 - val_loss: 0.0459\n",
      "Epoch 7/10\n",
      "300/300 - 5s - 17ms/step - accuracy: 0.9911 - loss: 0.0280 - val_accuracy: 0.9851 - val_loss: 0.0464\n",
      "Epoch 8/10\n",
      "300/300 - 5s - 16ms/step - accuracy: 0.9933 - loss: 0.0229 - val_accuracy: 0.9878 - val_loss: 0.0392\n",
      "Epoch 9/10\n",
      "300/300 - 5s - 16ms/step - accuracy: 0.9939 - loss: 0.0202 - val_accuracy: 0.9869 - val_loss: 0.0420\n",
      "Epoch 10/10\n",
      "300/300 - 5s - 16ms/step - accuracy: 0.9953 - loss: 0.0163 - val_accuracy: 0.9857 - val_loss: 0.0499\n",
      "Accuracy: 0.9857000112533569 \n",
      " Error: 1.4299988746643066\n"
     ]
    }
   ],
   "source": [
    "# build the model\n",
    "model = convolutional_model()\n",
    "\n",
    "# fit the model\n",
    "model.fit(X_train, y_train, validation_data=(X_test, y_test), epochs=10, batch_size=200, verbose=2)\n",
    "\n",
    "# evaluate the model\n",
    "scores = model.evaluate(X_test, y_test, verbose=0)\n",
    "print(\"Accuracy: {} \\n Error: {}\".format(scores[1], 100-scores[1]*100))"
   ]
  },
  {
   "cell_type": "markdown",
   "id": "bdadb672-3dd5-47c8-b2aa-b573faec12ab",
   "metadata": {},
   "source": [
    "------------------------------------------\n"
   ]
  },
  {
   "cell_type": "markdown",
   "id": "8346bc8d-b06d-4e59-ab6d-38ab51f7e3a2",
   "metadata": {},
   "source": [
    "## Convolutional Neural Network with Two Sets of Convolutional and Pooling Layers\n"
   ]
  },
  {
   "cell_type": "markdown",
   "id": "ed6adec1-b389-4d45-a94b-c3f378106a02",
   "metadata": {},
   "source": [
    "Let's redefine our convolutional model so that it has two convolutional and pooling layers instead of just one layer of each.\n"
   ]
  },
  {
   "cell_type": "code",
   "execution_count": 24,
   "id": "1238bc6e-7594-48f2-b239-83fd36c4838d",
   "metadata": {},
   "outputs": [],
   "source": [
    "def convolutional_model():\n",
    "    \n",
    "    # create model\n",
    "    model = Sequential()\n",
    "    model.add(Input(shape=(28, 28, 1)))\n",
    "    model.add(Conv2D(16, (5, 5), activation='relu'))\n",
    "    model.add(MaxPooling2D(pool_size=(2, 2), strides=(2, 2)))\n",
    "    \n",
    "    model.add(Conv2D(8, (2, 2), activation='relu'))\n",
    "    model.add(MaxPooling2D(pool_size=(2, 2), strides=(2, 2)))\n",
    "    \n",
    "    model.add(Flatten())\n",
    "    model.add(Dense(100, activation='relu'))\n",
    "    model.add(Dense(num_classes, activation='softmax'))\n",
    "    \n",
    "    # Compile model\n",
    "    model.compile(optimizer='adam', loss='categorical_crossentropy',  metrics=['accuracy'])\n",
    "    return model"
   ]
  },
  {
   "cell_type": "markdown",
   "id": "ad1e634f-0a4a-475b-95da-b6e322a83c46",
   "metadata": {},
   "source": [
    "Now, let's call the function to create our new convolutional neural network, and then let's train it and evaluate it.\n"
   ]
  },
  {
   "cell_type": "code",
   "execution_count": 29,
   "id": "3c0465aa-295a-49e7-92bb-050edb59e3df",
   "metadata": {},
   "outputs": [
    {
     "name": "stdout",
     "output_type": "stream",
     "text": [
      "Epoch 1/10\n",
      "300/300 - 7s - 22ms/step - accuracy: 0.8549 - loss: 0.5033 - val_accuracy: 0.9599 - val_loss: 0.1389\n",
      "Epoch 2/10\n",
      "300/300 - 5s - 18ms/step - accuracy: 0.9620 - loss: 0.1262 - val_accuracy: 0.9722 - val_loss: 0.0876\n",
      "Epoch 3/10\n",
      "300/300 - 6s - 19ms/step - accuracy: 0.9723 - loss: 0.0909 - val_accuracy: 0.9747 - val_loss: 0.0798\n",
      "Epoch 4/10\n",
      "300/300 - 5s - 18ms/step - accuracy: 0.9769 - loss: 0.0740 - val_accuracy: 0.9812 - val_loss: 0.0593\n",
      "Epoch 5/10\n",
      "300/300 - 6s - 19ms/step - accuracy: 0.9808 - loss: 0.0629 - val_accuracy: 0.9830 - val_loss: 0.0547\n",
      "Epoch 6/10\n",
      "300/300 - 6s - 19ms/step - accuracy: 0.9837 - loss: 0.0542 - val_accuracy: 0.9849 - val_loss: 0.0468\n",
      "Epoch 7/10\n",
      "300/300 - 6s - 18ms/step - accuracy: 0.9848 - loss: 0.0497 - val_accuracy: 0.9827 - val_loss: 0.0546\n",
      "Epoch 8/10\n",
      "300/300 - 6s - 19ms/step - accuracy: 0.9866 - loss: 0.0444 - val_accuracy: 0.9867 - val_loss: 0.0436\n",
      "Epoch 9/10\n",
      "300/300 - 6s - 18ms/step - accuracy: 0.9874 - loss: 0.0408 - val_accuracy: 0.9862 - val_loss: 0.0421\n",
      "Epoch 10/10\n",
      "300/300 - 6s - 18ms/step - accuracy: 0.9885 - loss: 0.0371 - val_accuracy: 0.9867 - val_loss: 0.0425\n",
      "Accuracy: 0.9866999983787537 \n",
      " Error: 1.3300001621246338\n"
     ]
    }
   ],
   "source": [
    "# build the model\n",
    "model = convolutional_model()\n",
    "\n",
    "# fit the model\n",
    "model.fit(X_train, y_train, validation_data=(X_test, y_test), epochs=10, batch_size=200, verbose=2)\n",
    "\n",
    "# evaluate the model\n",
    "scores = model.evaluate(X_test, y_test, verbose=0)\n",
    "print(\"Accuracy: {} \\n Error: {}\".format(scores[1], 100-scores[1]*100))"
   ]
  },
  {
   "cell_type": "markdown",
   "id": "1461351b-e85e-431a-94f7-7a803ad091f0",
   "metadata": {},
   "source": [
    "<h3>Practice Exercise 1</h3>\n"
   ]
  },
  {
   "cell_type": "markdown",
   "id": "b552fc94-0831-4569-bc0e-c5b9b153b70d",
   "metadata": {},
   "source": [
    "Let's see how batch size affects the time required and accuracy of the model training. \n",
    "For this, you can try to change batch_size to 1024 and check it's effect on accuracy\n"
   ]
  },
  {
   "cell_type": "code",
   "execution_count": null,
   "id": "f01355d9-0484-4b16-8419-fd6e64640806",
   "metadata": {},
   "outputs": [
    {
     "name": "stdout",
     "output_type": "stream",
     "text": [
      "Epoch 1/10\n",
      "59/59 - 6s - 94ms/step - accuracy: 0.6536 - loss: 1.3445 - val_accuracy: 0.8774 - val_loss: 0.4288\n",
      "Epoch 2/10\n",
      "59/59 - 4s - 74ms/step - accuracy: 0.9006 - loss: 0.3381 - val_accuracy: 0.9282 - val_loss: 0.2421\n",
      "Epoch 3/10\n",
      "59/59 - 4s - 75ms/step - accuracy: 0.9347 - loss: 0.2239 - val_accuracy: 0.9467 - val_loss: 0.1795\n",
      "Epoch 4/10\n",
      "59/59 - 5s - 78ms/step - accuracy: 0.9505 - loss: 0.1675 - val_accuracy: 0.9591 - val_loss: 0.1379\n",
      "Epoch 5/10\n",
      "59/59 - 5s - 81ms/step - accuracy: 0.9597 - loss: 0.1365 - val_accuracy: 0.9678 - val_loss: 0.1128\n",
      "Epoch 6/10\n",
      "59/59 - 5s - 82ms/step - accuracy: 0.9661 - loss: 0.1160 - val_accuracy: 0.9727 - val_loss: 0.0955\n",
      "Epoch 7/10\n",
      "59/59 - 5s - 83ms/step - accuracy: 0.9704 - loss: 0.1009 - val_accuracy: 0.9744 - val_loss: 0.0847\n",
      "Epoch 8/10\n",
      "59/59 - 5s - 80ms/step - accuracy: 0.9718 - loss: 0.0937 - val_accuracy: 0.9755 - val_loss: 0.0811\n",
      "Epoch 9/10\n",
      "59/59 - 5s - 79ms/step - accuracy: 0.9739 - loss: 0.0858 - val_accuracy: 0.9780 - val_loss: 0.0730\n",
      "Epoch 10/10\n",
      "59/59 - 5s - 77ms/step - accuracy: 0.9761 - loss: 0.0786 - val_accuracy: 0.9789 - val_loss: 0.0675\n",
      "[0.06748661398887634, 0.9789000153541565]\n"
     ]
    }
   ],
   "source": [
    "model_1024 = convolutional_model()\n",
    "model_1024.fit(X_train, y_train, validation_data=(X_test, y_test), epochs=10, batch_size=1024, verbose=2)\n",
    "\n",
    "scores = model_1024.evaluate(X_test, y_test, verbose=0)\n",
    "print(\"Accuracy: {} \\n Error: {}\".format(scores[1], 100-scores[1]*100))"
   ]
  },
  {
   "cell_type": "markdown",
   "id": "5bb6cc35-d6d9-4d82-97ff-44f59a729e0f",
   "metadata": {},
   "source": [
    "Double-click <b>here</b> for the solution.\n",
    "\n",
    "<!-- Your answer is below:\n",
    "# build the model\n",
    "model = convolutional_model()\n",
    "\n",
    "# fit the model\n",
    "model.fit(X_train, y_train, validation_data=(X_test, y_test), epochs=10, batch_size=1024, verbose=2)\n",
    "\n",
    "# evaluate the model\n",
    "scores = model.evaluate(X_test, y_test, verbose=0)\n",
    "print(\"Accuracy: {} \\n Error: {}\".format(scores[1], 100-scores[1]*100))\n",
    "-->\n"
   ]
  },
  {
   "cell_type": "markdown",
   "id": "2a03ad9b-825d-47ae-be77-e3bf1885c08e",
   "metadata": {},
   "source": [
    "<h3>Practice Exercise 2</h3>\n"
   ]
  },
  {
   "cell_type": "markdown",
   "id": "5989a3e9-0d9c-4769-a33d-fc22447a82bd",
   "metadata": {},
   "source": [
    "Now, let's see how number of epochs  affect the time required and accuracy of the model training. \n",
    "For this, you can keep the batch_size=1024 and epochs=25 and check it's effect on accuracy\n"
   ]
  },
  {
   "cell_type": "code",
   "execution_count": 30,
   "id": "f9e95cec-0929-4e21-82f2-88b829c59460",
   "metadata": {},
   "outputs": [
    {
     "name": "stdout",
     "output_type": "stream",
     "text": [
      "Epoch 1/25\n",
      "59/59 - 5s - 93ms/step - accuracy: 0.6819 - loss: 1.2693 - val_accuracy: 0.8820 - val_loss: 0.3972\n",
      "Epoch 2/25\n",
      "59/59 - 5s - 78ms/step - accuracy: 0.9090 - loss: 0.3070 - val_accuracy: 0.9369 - val_loss: 0.2211\n",
      "Epoch 3/25\n",
      "59/59 - 5s - 79ms/step - accuracy: 0.9441 - loss: 0.1916 - val_accuracy: 0.9567 - val_loss: 0.1472\n",
      "Epoch 4/25\n",
      "59/59 - 5s - 81ms/step - accuracy: 0.9592 - loss: 0.1377 - val_accuracy: 0.9655 - val_loss: 0.1140\n",
      "Epoch 5/25\n",
      "59/59 - 5s - 81ms/step - accuracy: 0.9669 - loss: 0.1103 - val_accuracy: 0.9727 - val_loss: 0.0901\n",
      "Epoch 6/25\n",
      "59/59 - 5s - 78ms/step - accuracy: 0.9719 - loss: 0.0933 - val_accuracy: 0.9775 - val_loss: 0.0776\n",
      "Epoch 7/25\n",
      "59/59 - 5s - 81ms/step - accuracy: 0.9742 - loss: 0.0836 - val_accuracy: 0.9780 - val_loss: 0.0699\n",
      "Epoch 8/25\n",
      "59/59 - 5s - 78ms/step - accuracy: 0.9769 - loss: 0.0759 - val_accuracy: 0.9806 - val_loss: 0.0648\n",
      "Epoch 9/25\n",
      "59/59 - 5s - 78ms/step - accuracy: 0.9791 - loss: 0.0688 - val_accuracy: 0.9817 - val_loss: 0.0606\n",
      "Epoch 10/25\n",
      "59/59 - 5s - 77ms/step - accuracy: 0.9795 - loss: 0.0659 - val_accuracy: 0.9825 - val_loss: 0.0591\n",
      "Epoch 11/25\n",
      "59/59 - 5s - 79ms/step - accuracy: 0.9816 - loss: 0.0597 - val_accuracy: 0.9830 - val_loss: 0.0545\n",
      "Epoch 12/25\n",
      "59/59 - 4s - 76ms/step - accuracy: 0.9827 - loss: 0.0571 - val_accuracy: 0.9837 - val_loss: 0.0508\n",
      "Epoch 13/25\n",
      "59/59 - 4s - 75ms/step - accuracy: 0.9832 - loss: 0.0544 - val_accuracy: 0.9843 - val_loss: 0.0503\n",
      "Epoch 14/25\n",
      "59/59 - 5s - 77ms/step - accuracy: 0.9839 - loss: 0.0514 - val_accuracy: 0.9848 - val_loss: 0.0486\n",
      "Epoch 15/25\n",
      "59/59 - 5s - 80ms/step - accuracy: 0.9850 - loss: 0.0489 - val_accuracy: 0.9850 - val_loss: 0.0491\n",
      "Epoch 16/25\n",
      "59/59 - 5s - 77ms/step - accuracy: 0.9863 - loss: 0.0457 - val_accuracy: 0.9859 - val_loss: 0.0447\n",
      "Epoch 17/25\n",
      "59/59 - 5s - 78ms/step - accuracy: 0.9867 - loss: 0.0443 - val_accuracy: 0.9855 - val_loss: 0.0460\n",
      "Epoch 18/25\n",
      "59/59 - 4s - 76ms/step - accuracy: 0.9875 - loss: 0.0418 - val_accuracy: 0.9862 - val_loss: 0.0423\n",
      "Epoch 19/25\n",
      "59/59 - 5s - 77ms/step - accuracy: 0.9878 - loss: 0.0399 - val_accuracy: 0.9863 - val_loss: 0.0441\n",
      "Epoch 20/25\n",
      "59/59 - 4s - 76ms/step - accuracy: 0.9881 - loss: 0.0400 - val_accuracy: 0.9861 - val_loss: 0.0435\n",
      "Epoch 21/25\n",
      "59/59 - 5s - 77ms/step - accuracy: 0.9887 - loss: 0.0375 - val_accuracy: 0.9874 - val_loss: 0.0427\n",
      "Epoch 22/25\n",
      "59/59 - 4s - 76ms/step - accuracy: 0.9889 - loss: 0.0363 - val_accuracy: 0.9871 - val_loss: 0.0409\n",
      "Epoch 23/25\n",
      "59/59 - 4s - 76ms/step - accuracy: 0.9896 - loss: 0.0351 - val_accuracy: 0.9877 - val_loss: 0.0387\n",
      "Epoch 24/25\n",
      "59/59 - 5s - 76ms/step - accuracy: 0.9901 - loss: 0.0337 - val_accuracy: 0.9885 - val_loss: 0.0376\n",
      "Epoch 25/25\n",
      "59/59 - 4s - 75ms/step - accuracy: 0.9906 - loss: 0.0324 - val_accuracy: 0.9859 - val_loss: 0.0423\n",
      "Accuracy: 0.9858999848365784 \n",
      " Error: 1.410001516342163\n"
     ]
    }
   ],
   "source": [
    "model_1024_25 = convolutional_model()\n",
    "model_1024_25.fit(X_train, y_train, validation_data=(X_test, y_test), epochs=25, batch_size=1024, verbose=2)\n",
    "scores = model_1024_25.evaluate(X_test, y_test, verbose=0)\n",
    "\n",
    "print(\"Accuracy: {} \\n Error: {}\".format(scores[1], 100-scores[1]*100))"
   ]
  },
  {
   "cell_type": "markdown",
   "id": "51c6e6da-7d0d-4090-9fb8-98f22d051bdb",
   "metadata": {},
   "source": [
    "Double-click <b>here</b> for the solution.\n",
    "\n",
    "<!-- Your answer is below:\n",
    "# build the model\n",
    "model = convolutional_model()\n",
    "\n",
    "# fit the model\n",
    "model.fit(X_train, y_train, validation_data=(X_test, y_test), epochs=25, batch_size=1024, verbose=2)\n",
    "\n",
    "# evaluate the model\n",
    "scores = model.evaluate(X_test, y_test, verbose=0)\n",
    "print(\"Accuracy: {} \\n Error: {}\".format(scores[1], 100-scores[1]*100))\n",
    "\n",
    "\n",
    "    -->\n"
   ]
  },
  {
   "cell_type": "markdown",
   "id": "844cc9d3-9e42-433a-9767-c03f0c1eb77d",
   "metadata": {},
   "source": [
    "### Thank you for completing this lab!\n",
    "\n",
    "This notebook was created by [Alex Aklson](https://www.linkedin.com/in/aklson/). I hope you found this lab interesting and educational. Feel free to contact me if you have any questions!\n"
   ]
  },
  {
   "cell_type": "markdown",
   "id": "5e3e2e36-9537-40c4-80bc-24e056e0b3c0",
   "metadata": {},
   "source": [
    "<!--\n",
    "## Change Log\n",
    "\n",
    "|  Date (YYYY-MM-DD) |  Version | Changed By  |  Change Description |\n",
    "|---|---|---|---|\n",
    "| 2024-11-20  | 3.0  | Aman  |  Updated the library versions to current |\n",
    "| 2020-09-21  | 2.0  | Srishti  |  Migrated Lab to Markdown and added to course repo in GitLab |\n",
    "\n",
    "\n",
    "\n",
    "<hr>\n",
    "\n",
    "## <h3 align=\"center\"> © IBM Corporation. All rights reserved. <h3/>\n"
   ]
  },
  {
   "cell_type": "markdown",
   "id": "ab20d78f-6c72-4aad-b35d-e2e770c39d5e",
   "metadata": {},
   "source": [
    "## <h3 align=\"center\"> &#169; IBM Corporation. All rights reserved. <h3/>\n",
    "\n"
   ]
  }
 ],
 "metadata": {
  "kernelspec": {
   "display_name": "Python 3",
   "language": "python",
   "name": "python3"
  },
  "language_info": {
   "codemirror_mode": {
    "name": "ipython",
    "version": 3
   },
   "file_extension": ".py",
   "mimetype": "text/x-python",
   "name": "python",
   "nbconvert_exporter": "python",
   "pygments_lexer": "ipython3",
   "version": "3.11.9"
  },
  "prev_pub_hash": "cf25684b5f40b85f8cce20a89cf822f405779387881f3fd281fbe1317debe407"
 },
 "nbformat": 4,
 "nbformat_minor": 4
}

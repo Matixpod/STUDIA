{
 "cells": [
  {
   "cell_type": "code",
   "execution_count": null,
   "id": "54e8b415-dc3a-426c-8f4e-bad743bce740",
   "metadata": {},
   "outputs": [
    {
     "name": "stdout",
     "output_type": "stream",
     "text": [
      "x_min = [0.11 0.1 ]\n",
      "f(x_min) = 0.00\n"
     ]
    }
   ],
   "source": [
    "import numpy as np\n",
    "from pso import PSO\n",
    "\n",
    "dims = 2\n",
    "iters = 10\n",
    "\n",
    "def f(x):\n",
    "    x1,x2 = x\n",
    "    return 0.26*(x1**2+x2**2)-0.48*x1*x2\n",
    "\n",
    "\n",
    "alg = PSO(swarm_size=30,\n",
    "phi_p=1,\n",
    "phi_g=0.5,\n",
    "omega=0.5,\n",
    "v_max=2)\n",
    "\n",
    "\n",
    "\n",
    "result = alg.run(f, [-10,10], dims, maximum_iterations=iters)\n",
    "\n",
    "print(f'x_min = {np.round(result, 2)}')\n",
    "print(f'f(x_min) = {f(result):0.2f}')"
   ]
  },
  {
   "cell_type": "code",
   "execution_count": null,
   "id": "f10dc8e0-0196-4eb5-b0a2-5adf01f0fcce",
   "metadata": {},
   "outputs": [
    {
     "name": "stdout",
     "output_type": "stream",
     "text": [
      "x_min = [-0. -0.]\n",
      "f(x_min) = 0.00\n"
     ]
    }
   ],
   "source": [
    "import numpy as np\n",
    "from pso import PSO\n",
    "\n",
    "dims = 2\n",
    "iters = 100\n",
    "\n",
    "def f(x):\n",
    "    x1,x2 = x\n",
    "    return 0.26*(x1**2+x2**2)-0.48*x1*x2\n",
    "\n",
    "\n",
    "alg = PSO(swarm_size=30,\n",
    "phi_p=1,\n",
    "phi_g=0.5,\n",
    "omega=0.5,\n",
    "v_max=2)\n",
    "\n",
    "\n",
    "\n",
    "result = alg.run(f, [-10,10], dims, maximum_iterations=iters)\n",
    "\n",
    "print(f'x_min = {np.round(result, 2)}')\n",
    "print(f'f(x_min) = {f(result):0.2f}')\n"
   ]
  },
  {
   "cell_type": "markdown",
   "metadata": {},
   "source": [
    "# Raport\n",
    "Zaimplementowana funkcja to MATYAS function\n",
    "\n",
    "https://www.sfu.ca/~ssurjano/matya.html\n",
    "\n",
    "Granice: [-10,10]\n",
    "\n",
    "Ilość wymiarów: 2\n",
    "\n",
    "Testowane iteracje:\n",
    " - 10\n",
    " - 100"
   ]
  }
 ],
 "metadata": {
  "language_info": {
   "codemirror_mode": {
    "name": "ipython",
    "version": 3
   },
   "file_extension": ".py",
   "mimetype": "text/x-python",
   "name": "python",
   "nbconvert_exporter": "python",
   "pygments_lexer": "ipython3",
   "version": 3
  }
 },
 "nbformat": 4,
 "nbformat_minor": 2
}
